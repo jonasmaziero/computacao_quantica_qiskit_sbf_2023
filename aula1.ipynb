{
 "cells": [
  {
   "cell_type": "markdown",
   "id": "8bdae5cb",
   "metadata": {
    "slideshow": {
     "slide_type": "slide"
    }
   },
   "source": [
    "# Computação Quântica com Qiskit\n",
    "\n",
    "##### Jonas Maziero\n",
    "\n",
    "<table>\n",
    "<td> Universidade Federal de Santa Maria <br>\n",
    "Centro de Ciências Naturais e Exatas <br>\n",
    "Departamento de Física <br>\n",
    "https://sites.google.com/site/jonasmaziero <br>\n",
    "jonas.maziero@ufsm.br \n",
    "    </td>\n",
    "    <td><img src='ufsm.jpg' width='250'></td>\n",
    "    <td><img src='inpe_ufsm.jpg' width='550'></td>\n",
    "</table>\n",
    "<table>\n",
    "    <td>Suporte Financeiro:</td>\n",
    "    <td><img src='cnpq.png' width='200'></td>\n",
    "    <td><img src='inct-iq.png' width='330'></td>\n",
    "    <td><img src='capes.png' width='100'></td>\n",
    "    <td><img src='fapergs.png' width='150'></td>\n",
    "    <td><img src='ufsm.jpg' width='75'></td>\n",
    "    </table>"
   ]
  },
  {
   "cell_type": "markdown",
   "id": "4239fa7e",
   "metadata": {
    "slideshow": {
     "slide_type": "slide"
    }
   },
   "source": [
    "Treinamento e trabalho:\n",
    "\n",
    "- Mar. 2002 - Dec. 2002: Eletrotécnico (CTISM/UFSM)\n",
    "- Mar. 2003 - Set. 2007: Bacharel em Física (UFSM)\n",
    "- Out. 2007- Ago. 2009: Mestre em Física (UFABC)\n",
    "- Sep. 2009 - Feb. 2012: Doutor em Física (UFABC)\n",
    "- Mar. 2012 - Set. 2012: Pós-doutorado (UFSM)\n",
    "- Out. 2012 - Set. 2013: Professor Adjunto de Física (Unipampa/Bagé)\n",
    "- Ago. 2015 - Jul. 2016: Pós-doutorado (Udelar - Uruguay)\n",
    "- Out. 2013 - Set. 2020: Professor Adjunto de Física (UFSM)\n",
    "- Out. 2020 - present: Professor Associado de Física (UFSM)"
   ]
  },
  {
   "cell_type": "markdown",
   "id": "6e2e1fc3",
   "metadata": {
    "slideshow": {
     "slide_type": "slide"
    }
   },
   "source": [
    "#### Grupo de Informação Quântica e Fenômenos Emergentes\n",
    "<table>\n",
    "    <td><img src='grad_students.png' width='1000'></td>\n",
    "    <td><img src='undergrad_students.png' width='700'><img src='logo_qiep.jpg' width='200'></td>\n",
    "</table>\n",
    "https://sites.google.com/site/qiepufsm, Sala 2040 - INPE/UFSM"
   ]
  },
  {
   "cell_type": "markdown",
   "id": "3fe1552a",
   "metadata": {
    "slideshow": {
     "slide_type": "slide"
    }
   },
   "source": [
    "# MiniCurso 10: <br> Introdução à Computação Quântica com Qiskit\n",
    "\n",
    "Dias 2, 4, 9, 11, 16 e 18 de outubro/2023 <br>\n",
    "Das 19h00 às 22h00 <br>\n",
    "Carga horária total 18 horas. <br>\n",
    "Aulas síncronas online pelo Zoom"
   ]
  },
  {
   "cell_type": "markdown",
   "id": "e1596d3b",
   "metadata": {
    "slideshow": {
     "slide_type": "slide"
    }
   },
   "source": [
    "__Ementa__:\n",
    "- A plataforma IBMQ para computação quântica na nuvem; \n",
    "- A biblioteca Qiskit (Quantum Information Science Kit) para computação quântica; \n",
    "- Configuração da conta no IBMQ; \n",
    "- Simulações e experimentos usando a ferramenta “Composer”; \n",
    "- Detalhes sobre os simuladores e chips quânticos da IBMQ; \n",
    "- Simulações e experimentos com Qiskit (Hello world com Qiskit); \n",
    "- Preparação de estados e portas lógicas básicas de um e de dois qubits;\n",
    "- Desigualdades de Bell; \n",
    "- Tomografia de estados quânticos; \n",
    "- Codificação superdensa; \n",
    "- Teleportação quântica."
   ]
  },
  {
   "cell_type": "markdown",
   "id": "9e32dc16",
   "metadata": {
    "slideshow": {
     "slide_type": "slide"
    }
   },
   "source": [
    "__Ferramentas__ que serão utilizadas: \n",
    "- Python; \n",
    "- Bibliotecas Numpy, Sympy, Matplotlib e Qiskit; \n",
    "- Ambientes de desenvolvimento Jupyter Notebook e Google Colab.\n",
    "\n",
    "Daremos instruções para utilização dessas ferramentas no início do minicurso. Cada discente precisa ter uma conta no\n",
    "Gmail para poder executar os códigos do curso usando o ambiente Google Colab. Algumas instruções podem ser encontradas de antemão em https://github.com/jonasmaziero/qiskit.\n",
    "\n",
    "__Público-alvo__: Discentes de graduação e de pós-graduação e docentes do ensino médio e do ensino superior interessados em Computação Quântica e Mecânica Quântica. É desejável alguma familiaridade com lógica de programação e com Álgebra Linear."
   ]
  },
  {
   "cell_type": "markdown",
   "id": "b3db7cca",
   "metadata": {
    "slideshow": {
     "slide_type": "slide"
    }
   },
   "source": [
    "# Aula 1\n",
    "\n",
    "- Computação Quântica: Motivação;\n",
    "- A plataforma IBMQ para computação quântica na nuvem; \n",
    "- Configuração da conta no IBMQ; \n",
    "- Detalhes sobre os simuladores e chips quânticos da IBMQ;\n",
    "- Simulações e experimentos usando a ferramenta “Composer”;\n",
    "- A biblioteca Qiskit (Quantum Information Science Kit) para computação quântica;\n",
    "- Simulações e experimentos com Qiskit (Hello world com Qiskit)."
   ]
  },
  {
   "cell_type": "markdown",
   "id": "f684d8b3",
   "metadata": {
    "slideshow": {
     "slide_type": "slide"
    }
   },
   "source": [
    "# Computação quântica - breve motivação"
   ]
  },
  {
   "cell_type": "markdown",
   "id": "28ac5188",
   "metadata": {
    "slideshow": {
     "slide_type": "slide"
    }
   },
   "source": [
    "## Computação quântica\n",
    "\n",
    "<table>\n",
    "<td> \n",
    "- P. Benioff, “The computer as a physical system: A microscopic quantum mechanical Hamiltonian model of computers as represented by Turing machines,” J. Stat. Phys. 22, 563 (1980). <br> - R. P. Feynman, \"Simulating physics with computers\", Int. J. Theor. Phys. 21, 467 (1982). <br>  - S. Lloyd, \"Universal Quantum Simulators,\" Science 273, 1073 (1996). \n",
    "</td>\n",
    "    <td> <img src='fig_feynman.jpg' width='350'> </td>\n",
    "    <td> <img src='benioff.jpeg' width='450'> </td>\n",
    "    </table>\n",
    "    <table>\n",
    "        <td> - D. Deutsch, A. Barenco, and A. Ekert, “Universality in Quantum Computation,” Proc. R. Soc. Lond. A 449, 669 (1995). <br> - CNOT + U(1 qubit) é unversal <br> - F. Tacchino, A. Chiesa, S. Carretta, and D. Gerace, “Quantum computers as universal quantum simulators: state-of-art and perspectives,” Adv. Quantum Tech. 3, 1900052 (2020).\n",
    " </td>\n",
    "        <td> <img src='universal_simulator.png' width='1000'> </td> \n",
    "    </tr>\n",
    "</table>"
   ]
  },
  {
   "cell_type": "markdown",
   "id": "2850ba25",
   "metadata": {
    "slideshow": {
     "slide_type": "slide"
    }
   },
   "source": [
    "## Lei de Moore\n",
    "<img src='moore_law.webp' width='1000'>"
   ]
  },
  {
   "cell_type": "markdown",
   "id": "4a9998f7",
   "metadata": {
    "slideshow": {
     "slide_type": "slide"
    }
   },
   "source": [
    "## Algoritmo de Shor\n",
    "\n",
    "Peter W. Shor, Algorithms for quantum computation: Discrete logarithms and factoring, Symposium on Foundations of Computer Science (1994); <br>\n",
    "    Peter W. Shor, Scheme for reducing decoherence in quantum computer memory, Phys. Rev. A 52, R2493 (1995).\n",
    "\n",
    "<table>\n",
    "<td> <img src='MIT-quantum-factor.jpg' width='500'></td>\n",
    "    <td> <img src='fig_shor.png' width='250'> </td>\n",
    "    <td> <img src='Shore_code.png' width='600'></td>\n",
    "</table>"
   ]
  },
  {
   "cell_type": "markdown",
   "id": "657e1e0b",
   "metadata": {
    "slideshow": {
     "slide_type": "slide"
    }
   },
   "source": [
    "<img src='QURECA_investment_2023.png' width='1300'>"
   ]
  },
  {
   "cell_type": "markdown",
   "id": "b51e6cf5",
   "metadata": {
    "slideshow": {
     "slide_type": "slide"
    }
   },
   "source": [
    "## Plataformas para computação quântica\n",
    "\n",
    "<table>\n",
    "    <tr>\n",
    "        <td><img src='silicon_qubits.jpg' width='500'></td>\n",
    "        <td><img src='trapped_ions.jpeg' width='300'></td>\n",
    "        <td><img src='optical_qubits.jpg' width='450'></td>\n",
    "    </tr>\n",
    "    <tr><td><img src='fig_nmr_qc.jpg' width='400'></td>\n",
    "        <td><img src='neutral_atoms.jpeg' width='350'></td>\n",
    "        <td><img src='ibmq_eagle.jpg' width='350'></td>\n",
    "    </tr>\n",
    "    </table>"
   ]
  },
  {
   "cell_type": "markdown",
   "id": "1d7c8aba",
   "metadata": {
    "slideshow": {
     "slide_type": "slide"
    }
   },
   "source": [
    "## Computadores quânticos da IBM\n",
    "\n",
    "<table>\n",
    "    <td>https://quantum-computing.ibm.com/<img src='fig_ibmq2.jpg' width='550'></td>\n",
    "    <td> Chip da IBMQ (qubits supercondutores)\n",
    "<img src='fig_ibmq_chip.png' width='550'>\n",
    "        <img src='fig_transmon_qubit.jpeg' width='500'> </td>\n",
    "    </table>"
   ]
  },
  {
   "cell_type": "markdown",
   "id": "7f16490d",
   "metadata": {
    "slideshow": {
     "slide_type": "slide"
    }
   },
   "source": [
    "# IBMQ\n",
    "\n",
    "- A plataforma IBMQ para computação quântica na nuvem; \n",
    "- Configuração da conta no IBMQ; \n",
    "- Detalhes sobre os simuladores e chips quânticos da IBMQ."
   ]
  },
  {
   "cell_type": "code",
   "execution_count": 1,
   "id": "ec5096ac",
   "metadata": {
    "scrolled": false,
    "slideshow": {
     "slide_type": "slide"
    }
   },
   "outputs": [
    {
     "data": {
      "text/html": [
       "\n",
       "        <iframe\n",
       "            width=\"900\"\n",
       "            height=\"500\"\n",
       "            src=\"https://www.ibm.com/quantum\"\n",
       "            frameborder=\"0\"\n",
       "            allowfullscreen\n",
       "            \n",
       "        ></iframe>\n",
       "        "
      ],
      "text/plain": [
       "<IPython.lib.display.IFrame at 0x239116f77c0>"
      ]
     },
     "execution_count": 1,
     "metadata": {},
     "output_type": "execute_result"
    }
   ],
   "source": [
    "from IPython.display import IFrame; IFrame(\"https://www.ibm.com/quantum\", 900,500)"
   ]
  },
  {
   "cell_type": "markdown",
   "id": "0803eb47",
   "metadata": {
    "slideshow": {
     "slide_type": "slide"
    }
   },
   "source": [
    "https://quantum-computing.ibm.com/\n",
    "<img src='ibm_wpage3.png' width='1450'>"
   ]
  },
  {
   "cell_type": "markdown",
   "id": "df34ec82",
   "metadata": {
    "slideshow": {
     "slide_type": "skip"
    }
   },
   "source": [
    "https://quantum-computing.ibm.com/:\n",
    "- Jobs \n",
    "- Your systems (https://quantum-computing.ibm.com/services/resources?tab=yours)\n",
    "- Simulators (https://quantum-computing.ibm.com/services/resources?tab=simulators)\n",
    "- Documentation (https://docs.quantum-computing.ibm.com/)\n",
    "- Learning (https://learning.quantum-computing.ibm.com/)\n",
    "- IBM Quantum Composer (https://quantum-computing.ibm.com/composer)\n",
    "- IBM Quantum Lab (https://lab.quantum-computing.ibm.com/hub/user/5dd86c789cbceb00196f9e0e/lab)\n",
    "- API Token\n",
    "- What's new (https://docs.quantum-computing.ibm.com/announcements)"
   ]
  },
  {
   "cell_type": "markdown",
   "id": "9bff17b8",
   "metadata": {
    "slideshow": {
     "slide_type": "slide"
    }
   },
   "source": [
    "#### Recursos computacionais no IBMQ\n",
    "<img src='ibm_wpage4.png' width='1450'>"
   ]
  },
  {
   "cell_type": "markdown",
   "id": "259d0dad",
   "metadata": {
    "slideshow": {
     "slide_type": "slide"
    }
   },
   "source": [
    "#### Detalhes do chip quântico\n",
    "<table>\n",
    "    <td><img src='chip_details.png' width='1000'></td>\n",
    "    <td><img src='chip_details_.png' width='300'></td>\n",
    "    </table>"
   ]
  },
  {
   "cell_type": "code",
   "execution_count": 6,
   "id": "22c757b5",
   "metadata": {
    "slideshow": {
     "slide_type": "slide"
    }
   },
   "outputs": [
    {
     "name": "stdout",
     "output_type": "stream",
     "text": [
      "Qubit,T1, (us),T2, (us),Frequency, (GHz),Anharmonicity, (GHz),Readout, assignment, error, ,Prob, meas0, prep1, ,Prob, meas1, prep0, ,Readout, length, (ns),ID, error, ,âˆšx, (sx), error, ,Pauli-X, error, ,CNOT, error, ,Gate, time, (ns)\n",
      "0,150.9762593135863,49.9673647340615,5.235357413369219,-0.33986713855915607,0.011800000000000033,0.0144,0.009199999999999986,789.3333333333333,0.00017597707457356335,0.00017597707457356335,0.00017597707457356335,0_1:0.007751344912272307,0_1:576\n",
      "1,83.35572399345214,89.15387208313713,5.099650772095159,-0.3432484042938357,0.015199999999999991,0.0156,0.014800000000000035,789.3333333333333,0.00018074566854489095,0.00018074566854489095,0.00018074566854489095,1_3:0.010287395427919455;, 1_2:0.006526422101308632;, 1_0:0.007751344912272307,1_3:334.22222222222223;, 1_2:327.1111111111111;, 1_0:611.5555555555555\n",
      "2,98.59603550146484,105.77393935997536,5.188291808430394,-0.3419316690031256,0.006000000000000005,0.006199999999999983,0.0058,789.3333333333333,0.0002461972283567889,0.0002461972283567889,0.0002461972283567889,2_1:0.006526422101308632,2_1:291.55555555555554\n",
      "3,105.05108171233177,74.6515842502085,4.987485980533588,-0.3452928861203798,0.012499999999999956,0.0158,0.009199999999999986,789.3333333333333,0.001226421742951382,0.001226421742951382,0.001226421742951382,3_1:0.010287395427919455;, 3_5:0.027239458175972592,3_1:298.66666666666663;, 3_5:561.7777777777777\n",
      "4,99.69341619764214,32.51127698601581,5.285344801433723,-0.3392342674107948,0.043199999999999905,0.026599999999999957,0.0598,789.3333333333333,0.00019394048703834003,0.00019394048703834003,0.00019394048703834003,4_5:0.005230544132568404,4_5:362.66666666666663\n",
      "5,100.31142089858433,76.52276301071284,5.176089247495094,-0.34079297245074963,0.015800000000000036,0.0152,0.01639999999999997,789.3333333333333,0.0001574548982487621,0.0001574548982487621,0.0001574548982487621,5_4:0.005230544132568404;, 5_6:0.018565684227520307;, 5_3:0.027239458175972592,5_4:327.1111111111111;, 5_6:256;, 5_3:597.3333333333333\n",
      "6,167.76400336938144,75.60750993512461,5.063876175153965,-0.34275836537159754,0.01980000000000004,0.026599999999999957,0.013,789.3333333333333,0.0015560582786257793,0.0015560582786257793,0.0015560582786257793,6_5:0.018565684227520307,6_5:291.55555555555554\n"
     ]
    }
   ],
   "source": [
    "import csv\n",
    "with open('ibm_lagos_calibrations_2023-09-28T17_22_25Z.csv', newline='') as csvfile:\n",
    "    spamreader = csv.reader(csvfile, delimiter=' ', quotechar='|')\n",
    "    for row in spamreader:\n",
    "        print(', '.join(row))"
   ]
  },
  {
   "cell_type": "markdown",
   "id": "ce606d09",
   "metadata": {
    "slideshow": {
     "slide_type": "slide"
    }
   },
   "source": [
    "# IBM Quantum Composer"
   ]
  },
  {
   "cell_type": "markdown",
   "id": "caeacb1b",
   "metadata": {
    "slideshow": {
     "slide_type": "slide"
    }
   },
   "source": [
    "#### O Composer no IBMQ\n",
    "<img src='ibm_wpage5.png' width='1450'>"
   ]
  },
  {
   "cell_type": "markdown",
   "id": "079c0c4d",
   "metadata": {
    "slideshow": {
     "slide_type": "slide"
    }
   },
   "source": [
    "### Estado inicial e medida\n",
    "\n",
    "* Todos os qubits são inicialmente preparados no estado $|0\\rangle$\n",
    "\n",
    "* Medidas são feitas diretamente somente na base padrão $\\{|0\\rangle,|1\\rangle\\}$ "
   ]
  },
  {
   "cell_type": "markdown",
   "id": "40d65ee6",
   "metadata": {
    "slideshow": {
     "slide_type": "slide"
    }
   },
   "source": [
    "#### Executando no simulador (emulador clássico do circuito quântico)\n",
    "\n",
    "<table>\n",
    "    <td>\n",
    "    <img src='composer_sim.png' width='800'>\n",
    "    </td>\n",
    "    <td>\n",
    "        <img src='composer_sim_.png' width='350'>\n",
    "    </td>\n",
    "    </table>"
   ]
  },
  {
   "cell_type": "markdown",
   "id": "8f88f2fc",
   "metadata": {
    "slideshow": {
     "slide_type": "slide"
    }
   },
   "source": [
    "#### Executando no chip quântico\n",
    "<table>\n",
    "    <td>\n",
    "    <img src='composer_exp.png' width='800'>\n",
    "    </td>\n",
    "    <td>\n",
    "        <img src='composer_exp_.png' width='350'>\n",
    "    </td>\n",
    "    </table>"
   ]
  },
  {
   "cell_type": "markdown",
   "id": "008b35fb",
   "metadata": {
    "slideshow": {
     "slide_type": "slide"
    }
   },
   "source": [
    "## Quantum Information Science Kit (Qiskit)\n",
    "\n",
    "https://qiskit.org/\n",
    "\n",
    "Conjunto de portas lógicas: https://qiskit.org/documentation/apidoc/circuit_library.html"
   ]
  },
  {
   "cell_type": "markdown",
   "id": "e894c3c4",
   "metadata": {
    "slideshow": {
     "slide_type": "slide"
    }
   },
   "source": [
    "## Google Colab\n",
    "\n",
    "https://colab.google/\n",
    "\n",
    "pip install -U qiskit==0.36.2\n",
    "\n",
    "pip install pylatexenc"
   ]
  },
  {
   "cell_type": "markdown",
   "id": "b22153b1",
   "metadata": {
    "slideshow": {
     "slide_type": "slide"
    }
   },
   "source": [
    "### Jupyter Notebooks ou Python\n",
    "\n",
    "#### Instalação do qiskit\n",
    "\n",
    "Instruções são encontradas em https://qiskit.org/documentation/stable/0.24/install.html\n",
    "\n",
    "1) Instale o Anaconda: https://www.anaconda.com/products/individual\n",
    "\n",
    "2) Instale o qiskit: $\\textit{pip install qiskit}$\n",
    "\n",
    "3) Teste a instalação abrindo o jupyter notebook e usando o comando $\\textit{import qiskit}$ seguido do comando $\\textit{qiskit.__qiskit_version__}$\n",
    "\n",
    "4) Faça sua conta no IBMQ: https://quantum-computing.ibm.com/ <br>\n",
    "Você vai precisar do \"API token\" obtido na sua conta\n"
   ]
  },
  {
   "cell_type": "markdown",
   "id": "79d2452b",
   "metadata": {
    "slideshow": {
     "slide_type": "slide"
    }
   },
   "source": [
    "## IBM Quantum Lab\n",
    "\n",
    "https://lab.quantum-computing.ibm.com"
   ]
  },
  {
   "cell_type": "markdown",
   "id": "5f0d7643",
   "metadata": {
    "slideshow": {
     "slide_type": "slide"
    }
   },
   "source": [
    "#### Programando Qiskit no IBMQ\n",
    "\n",
    "<img src='ibm_wpage6.png' width='1450'>"
   ]
  },
  {
   "cell_type": "markdown",
   "id": "d7d71aa6",
   "metadata": {
    "slideshow": {
     "slide_type": "slide"
    }
   },
   "source": [
    "# Conectando com sua conta no IBMQ"
   ]
  },
  {
   "cell_type": "code",
   "execution_count": 2,
   "id": "f554a8d0",
   "metadata": {
    "slideshow": {
     "slide_type": "slide"
    }
   },
   "outputs": [
    {
     "data": {
      "text/plain": [
       "{'qiskit-terra': '0.20.2', 'qiskit-aer': '0.10.4', 'qiskit-ignis': '0.7.1', 'qiskit-ibmq-provider': '0.19.1', 'qiskit-aqua': None, 'qiskit': '0.36.2', 'qiskit-nature': None, 'qiskit-finance': None, 'qiskit-optimization': None, 'qiskit-machine-learning': None}"
      ]
     },
     "execution_count": 2,
     "metadata": {},
     "output_type": "execute_result"
    }
   ],
   "source": [
    "import qiskit\n",
    "qiskit.__qiskit_version__"
   ]
  },
  {
   "cell_type": "code",
   "execution_count": 3,
   "id": "069379b8",
   "metadata": {
    "slideshow": {
     "slide_type": "slide"
    }
   },
   "outputs": [
    {
     "data": {
      "text/plain": [
       "<AccountProvider for IBMQ(hub='ibm-q', group='open', project='main')>"
      ]
     },
     "execution_count": 3,
     "metadata": {},
     "output_type": "execute_result"
    }
   ],
   "source": [
    "# Copie se API Token no IBMQ e cole aqui\n",
    "qiskit.IBMQ.save_account('3b11fa4d7b4a5aec85e2eb619524cae02cd9e52de1df11f704e7e32b55fe32d0c834a349bb249254b2fc1e4256e4e0024f749d0c37310013de26d18da00dda73', \n",
    "                  overwrite = True)\n",
    "\n",
    "# Execute esse comando uma vez só\n",
    "qiskit.IBMQ.load_account()"
   ]
  },
  {
   "cell_type": "code",
   "execution_count": 4,
   "id": "0e9db0f0",
   "metadata": {
    "slideshow": {
     "slide_type": "slide"
    }
   },
   "outputs": [
    {
     "data": {
      "text/plain": [
       "[<IBMQSimulator('ibmq_qasm_simulator') from IBMQ(hub='ibm-q', group='open', project='main')>,\n",
       " <IBMQSimulator('simulator_statevector') from IBMQ(hub='ibm-q', group='open', project='main')>,\n",
       " <IBMQSimulator('simulator_mps') from IBMQ(hub='ibm-q', group='open', project='main')>,\n",
       " <IBMQSimulator('simulator_extended_stabilizer') from IBMQ(hub='ibm-q', group='open', project='main')>,\n",
       " <IBMQSimulator('simulator_stabilizer') from IBMQ(hub='ibm-q', group='open', project='main')>,\n",
       " <IBMQBackend('ibm_lagos') from IBMQ(hub='ibm-q', group='open', project='main')>,\n",
       " <IBMQBackend('ibm_nairobi') from IBMQ(hub='ibm-q', group='open', project='main')>,\n",
       " <IBMQBackend('ibm_perth') from IBMQ(hub='ibm-q', group='open', project='main')>,\n",
       " <IBMQBackend('ibm_brisbane') from IBMQ(hub='ibm-q', group='open', project='main')>]"
      ]
     },
     "execution_count": 4,
     "metadata": {},
     "output_type": "execute_result"
    }
   ],
   "source": [
    "provider = qiskit.IBMQ.get_provider(hub='ibm-q', group='open', project='main')\n",
    "provider.backends()"
   ]
  },
  {
   "cell_type": "markdown",
   "id": "654dd0d0",
   "metadata": {
    "slideshow": {
     "slide_type": "slide"
    }
   },
   "source": [
    "## Criando um circuito quântico"
   ]
  },
  {
   "cell_type": "code",
   "execution_count": 5,
   "id": "12b0e8b7",
   "metadata": {
    "slideshow": {
     "slide_type": "slide"
    }
   },
   "outputs": [
    {
     "data": {
      "image/png": "[encoded data removed]",
      "text/plain": [
       "<Figure size 472.545x284.278 with 1 Axes>"
      ]
     },
     "execution_count": 5,
     "metadata": {},
     "output_type": "execute_result"
    }
   ],
   "source": [
    "from qiskit import *\n",
    "\n",
    "qr = QuantumRegister(2)\n",
    "cr = ClassicalRegister(2)\n",
    "qc = QuantumCircuit(qr,cr)\n",
    "qc.h(qr[0])\n",
    "qc.cx(qr[0],qr[1])\n",
    "qc.measure(qr[0],cr[0])\n",
    "qc.measure(qr[1],cr[1])\n",
    "qc.draw('mpl')"
   ]
  },
  {
   "cell_type": "markdown",
   "id": "579338cf",
   "metadata": {
    "slideshow": {
     "slide_type": "slide"
    }
   },
   "source": [
    "## Simulação"
   ]
  },
  {
   "cell_type": "code",
   "execution_count": 6,
   "id": "f51b3afd",
   "metadata": {
    "slideshow": {
     "slide_type": "slide"
    }
   },
   "outputs": [
    {
     "data": {
      "image/png": "[encoded data removed]",
      "text/plain": [
       "<Figure size 700x500 with 1 Axes>"
      ]
     },
     "execution_count": 6,
     "metadata": {},
     "output_type": "execute_result"
    }
   ],
   "source": [
    "simulator = Aer.get_backend('qasm_simulator') \n",
    "\n",
    "nshots = 8192 # número de \"prepara-e-mede\"\n",
    "\n",
    "job = execute(qc, backend = simulator, shots = nshots)\n",
    "\n",
    "from qiskit.tools.visualization import plot_histogram\n",
    "plot_histogram(job.result().get_counts(qc))"
   ]
  },
  {
   "cell_type": "code",
   "execution_count": 7,
   "id": "6af7ab30",
   "metadata": {
    "slideshow": {
     "slide_type": "slide"
    }
   },
   "outputs": [
    {
     "data": {
      "text/plain": [
       "{'11': 4040, '00': 4152}"
      ]
     },
     "execution_count": 7,
     "metadata": {},
     "output_type": "execute_result"
    }
   ],
   "source": [
    "# Acessando as contagens com numpy\n",
    "\n",
    "counts = job.result().get_counts(qc)\n",
    "counts"
   ]
  },
  {
   "cell_type": "code",
   "execution_count": 8,
   "id": "934af3c5",
   "metadata": {},
   "outputs": [
    {
     "data": {
      "text/plain": [
       "4152"
      ]
     },
     "execution_count": 8,
     "metadata": {},
     "output_type": "execute_result"
    }
   ],
   "source": [
    "counts['00']"
   ]
  },
  {
   "cell_type": "code",
   "execution_count": 9,
   "id": "026b9fd3",
   "metadata": {},
   "outputs": [
    {
     "data": {
      "text/plain": [
       "(0.5068359375, 0, 0, 0.4931640625)"
      ]
     },
     "execution_count": 9,
     "metadata": {},
     "output_type": "execute_result"
    }
   ],
   "source": [
    "# probabilidade\n",
    "p00 = 0; p01 = 0; p10 = 0; p11 = 0\n",
    "for j in (0,2):\n",
    "    for k in (0,2):\n",
    "        if '00' in counts:\n",
    "            p00 = counts['00']/nshots\n",
    "        if '01' in counts:\n",
    "            p01 = counts['01']/nshots\n",
    "        if '10' in counts:\n",
    "            p10 = counts['10']/nshots\n",
    "        if '11' in counts:\n",
    "            p11 = counts['11']/nshots\n",
    "p00, p01, p10, p11"
   ]
  },
  {
   "cell_type": "markdown",
   "id": "7722b918",
   "metadata": {
    "slideshow": {
     "slide_type": "slide"
    }
   },
   "source": [
    "## Experimento"
   ]
  },
  {
   "cell_type": "code",
   "execution_count": 28,
   "id": "945d0e5e",
   "metadata": {
    "scrolled": false,
    "slideshow": {
     "slide_type": "slide"
    }
   },
   "outputs": [],
   "source": [
    "device = provider.get_backend('ibm_lagos')\n",
    "from qiskit.tools.monitor import job_monitor\n",
    "\n",
    "job = execute(qc, backend = device, shots = nshots)\n",
    "job_monitor(job)"
   ]
  },
  {
   "cell_type": "code",
   "execution_count": 27,
   "id": "3bb7faaa",
   "metadata": {},
   "outputs": [
    {
     "data": {
      "image/png": "[encoded data removed]",
      "text/plain": [
       "<Figure size 700x500 with 1 Axes>"
      ]
     },
     "execution_count": 27,
     "metadata": {},
     "output_type": "execute_result"
    }
   ],
   "source": [
    "plot_histogram(job.result().get_counts(qc))"
   ]
  },
  {
   "cell_type": "code",
   "execution_count": 22,
   "id": "3d36a812",
   "metadata": {
    "scrolled": true,
    "slideshow": {
     "slide_type": "slide"
    }
   },
   "outputs": [
    {
     "data": {
      "text/plain": [
       "{'10': 104, '01': 84, '00': 3913, '11': 4091}"
      ]
     },
     "execution_count": 22,
     "metadata": {},
     "output_type": "execute_result"
    }
   ],
   "source": [
    "counts = job.result().get_counts(qc)\n",
    "counts"
   ]
  },
  {
   "cell_type": "code",
   "execution_count": 24,
   "id": "d9fdeeeb",
   "metadata": {},
   "outputs": [
    {
     "data": {
      "text/plain": [
       "3913"
      ]
     },
     "execution_count": 24,
     "metadata": {},
     "output_type": "execute_result"
    }
   ],
   "source": [
    "counts['00']"
   ]
  },
  {
   "cell_type": "code",
   "execution_count": 26,
   "id": "b37c5ddf",
   "metadata": {},
   "outputs": [
    {
     "data": {
      "text/plain": [
       "(0.4776611328125, 0.01025390625, 0.0126953125, 0.4993896484375)"
      ]
     },
     "execution_count": 26,
     "metadata": {},
     "output_type": "execute_result"
    }
   ],
   "source": [
    "# probabilidade\n",
    "p00 = 0; p01 = 0; p10 = 0; p11 = 0\n",
    "for j in (0,2):\n",
    "    for k in (0,2):\n",
    "        if '00' in counts:\n",
    "            p00 = counts['00']/nshots\n",
    "        if '01' in counts:\n",
    "            p01 = counts['01']/nshots\n",
    "        if '10' in counts:\n",
    "            p10 = counts['10']/nshots\n",
    "        if '11' in counts:\n",
    "            p11 = counts['11']/nshots\n",
    "p00, p01, p10, p11"
   ]
  },
  {
   "cell_type": "code",
   "execution_count": null,
   "id": "d4693c2b",
   "metadata": {
    "slideshow": {
     "slide_type": "skip"
    }
   },
   "outputs": [],
   "source": []
  }
 ],
 "metadata": {
  "celltoolbar": "Slideshow",
  "kernelspec": {
   "display_name": "Python 3 (ipykernel)",
   "language": "python",
   "name": "python3"
  },
  "language_info": {
   "codemirror_mode": {
    "name": "ipython",
    "version": 3
   },
   "file_extension": ".py",
   "mimetype": "text/x-python",
   "name": "python",
   "nbconvert_exporter": "python",
   "pygments_lexer": "ipython3",
   "version": "3.9.13"
  },
  "rise": {
   "theme": "sky",
   "transition": "zoom"
  }
 },
 "nbformat": 4,
 "nbformat_minor": 5
}
