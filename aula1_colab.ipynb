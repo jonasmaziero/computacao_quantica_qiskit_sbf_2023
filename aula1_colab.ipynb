{
  "nbformat": 4,
  "nbformat_minor": 0,
  "metadata": {
    "colab": {
      "provenance": []
    },
    "kernelspec": {
      "name": "python3",
      "display_name": "Python 3"
    },
    "language_info": {
      "name": "python"
    }
  },
  "cells": [
    {
      "cell_type": "markdown",
      "source": [
        "# Aula 1\n",
        "\n",
        "## Instalando o qiskit"
      ],
      "metadata": {
        "id": "egBCWjGxMZhl"
      }
    },
    {
      "cell_type": "code",
      "execution_count": 2,
      "metadata": {
        "colab": {
          "base_uri": "https://localhost:8080/"
        },
        "id": "eJ2IREaJTYUk",
        "outputId": "999c2553-2822-4f81-9c8a-ac545eb9d372"
      },
      "outputs": [
        {
          "output_type": "stream",
          "name": "stdout",
          "text": [
            "Collecting qiskit==0.36.2\n",
            "  Downloading qiskit-0.36.2.tar.gz (13 kB)\n",
            "  Preparing metadata (setup.py) ... \u001b[?25l\u001b[?25hdone\n",
            "Collecting qiskit-terra==0.20.2 (from qiskit==0.36.2)\n",
            "  Downloading qiskit_terra-0.20.2-cp310-cp310-manylinux_2_17_x86_64.manylinux2014_x86_64.whl (6.5 MB)\n",
            "\u001b[2K     \u001b[90m━━━━━━━━━━━━━━━━━━━━━━━━━━━━━━━━━━━━━━━━\u001b[0m \u001b[32m6.5/6.5 MB\u001b[0m \u001b[31m21.8 MB/s\u001b[0m eta \u001b[36m0:00:00\u001b[0m\n",
            "\u001b[?25hCollecting qiskit-aer==0.10.4 (from qiskit==0.36.2)\n",
            "  Downloading qiskit_aer-0.10.4-cp310-cp310-manylinux_2_17_x86_64.manylinux2014_x86_64.whl (19.1 MB)\n",
            "\u001b[2K     \u001b[90m━━━━━━━━━━━━━━━━━━━━━━━━━━━━━━━━━━━━━━━━\u001b[0m \u001b[32m19.1/19.1 MB\u001b[0m \u001b[31m50.9 MB/s\u001b[0m eta \u001b[36m0:00:00\u001b[0m\n",
            "\u001b[?25hCollecting qiskit-ibmq-provider==0.19.1 (from qiskit==0.36.2)\n",
            "  Downloading qiskit_ibmq_provider-0.19.1-py3-none-any.whl (240 kB)\n",
            "\u001b[2K     \u001b[90m━━━━━━━━━━━━━━━━━━━━━━━━━━━━━━━━━━━━━━\u001b[0m \u001b[32m240.0/240.0 kB\u001b[0m \u001b[31m22.8 MB/s\u001b[0m eta \u001b[36m0:00:00\u001b[0m\n",
            "\u001b[?25hCollecting qiskit-ignis==0.7.1 (from qiskit==0.36.2)\n",
            "  Downloading qiskit_ignis-0.7.1-py3-none-any.whl (198 kB)\n",
            "\u001b[2K     \u001b[90m━━━━━━━━━━━━━━━━━━━━━━━━━━━━━━━━━━━━━━\u001b[0m \u001b[32m198.7/198.7 kB\u001b[0m \u001b[31m21.0 MB/s\u001b[0m eta \u001b[36m0:00:00\u001b[0m\n",
            "\u001b[?25hRequirement already satisfied: numpy>=1.16.3 in /usr/local/lib/python3.10/dist-packages (from qiskit-aer==0.10.4->qiskit==0.36.2) (1.23.5)\n",
            "Requirement already satisfied: scipy>=1.0 in /usr/local/lib/python3.10/dist-packages (from qiskit-aer==0.10.4->qiskit==0.36.2) (1.11.2)\n",
            "Requirement already satisfied: requests>=2.19 in /usr/local/lib/python3.10/dist-packages (from qiskit-ibmq-provider==0.19.1->qiskit==0.36.2) (2.31.0)\n",
            "Collecting requests-ntlm>=1.1.0 (from qiskit-ibmq-provider==0.19.1->qiskit==0.36.2)\n",
            "  Downloading requests_ntlm-1.2.0-py3-none-any.whl (6.0 kB)\n",
            "Requirement already satisfied: urllib3>=1.21.1 in /usr/local/lib/python3.10/dist-packages (from qiskit-ibmq-provider==0.19.1->qiskit==0.36.2) (2.0.4)\n",
            "Requirement already satisfied: python-dateutil>=2.8.0 in /usr/local/lib/python3.10/dist-packages (from qiskit-ibmq-provider==0.19.1->qiskit==0.36.2) (2.8.2)\n",
            "Requirement already satisfied: websocket-client>=1.0.1 in /usr/local/lib/python3.10/dist-packages (from qiskit-ibmq-provider==0.19.1->qiskit==0.36.2) (1.6.2)\n",
            "Collecting websockets>=10.0 (from qiskit-ibmq-provider==0.19.1->qiskit==0.36.2)\n",
            "  Downloading websockets-11.0.3-cp310-cp310-manylinux_2_5_x86_64.manylinux1_x86_64.manylinux_2_17_x86_64.manylinux2014_x86_64.whl (129 kB)\n",
            "\u001b[2K     \u001b[90m━━━━━━━━━━━━━━━━━━━━━━━━━━━━━━━━━━━━━━\u001b[0m \u001b[32m129.9/129.9 kB\u001b[0m \u001b[31m14.3 MB/s\u001b[0m eta \u001b[36m0:00:00\u001b[0m\n",
            "\u001b[?25hCollecting retworkx>=0.8.0 (from qiskit-ignis==0.7.1->qiskit==0.36.2)\n",
            "  Downloading retworkx-0.13.1-py3-none-any.whl (10 kB)\n",
            "Requirement already satisfied: setuptools>=40.1.0 in /usr/local/lib/python3.10/dist-packages (from qiskit-ignis==0.7.1->qiskit==0.36.2) (67.7.2)\n",
            "Collecting ply>=3.10 (from qiskit-terra==0.20.2->qiskit==0.36.2)\n",
            "  Downloading ply-3.11-py2.py3-none-any.whl (49 kB)\n",
            "\u001b[2K     \u001b[90m━━━━━━━━━━━━━━━━━━━━━━━━━━━━━━━━━━━━━━━━\u001b[0m \u001b[32m49.6/49.6 kB\u001b[0m \u001b[31m5.8 MB/s\u001b[0m eta \u001b[36m0:00:00\u001b[0m\n",
            "\u001b[?25hRequirement already satisfied: psutil>=5 in /usr/local/lib/python3.10/dist-packages (from qiskit-terra==0.20.2->qiskit==0.36.2) (5.9.5)\n",
            "Requirement already satisfied: sympy>=1.3 in /usr/local/lib/python3.10/dist-packages (from qiskit-terra==0.20.2->qiskit==0.36.2) (1.12)\n",
            "Collecting dill>=0.3 (from qiskit-terra==0.20.2->qiskit==0.36.2)\n",
            "  Downloading dill-0.3.7-py3-none-any.whl (115 kB)\n",
            "\u001b[2K     \u001b[90m━━━━━━━━━━━━━━━━━━━━━━━━━━━━━━━━━━━━━━\u001b[0m \u001b[32m115.3/115.3 kB\u001b[0m \u001b[31m12.4 MB/s\u001b[0m eta \u001b[36m0:00:00\u001b[0m\n",
            "\u001b[?25hCollecting python-constraint>=1.4 (from qiskit-terra==0.20.2->qiskit==0.36.2)\n",
            "  Downloading python-constraint-1.4.0.tar.bz2 (18 kB)\n",
            "  Preparing metadata (setup.py) ... \u001b[?25l\u001b[?25hdone\n",
            "Collecting stevedore>=3.0.0 (from qiskit-terra==0.20.2->qiskit==0.36.2)\n",
            "  Downloading stevedore-5.1.0-py3-none-any.whl (49 kB)\n",
            "\u001b[2K     \u001b[90m━━━━━━━━━━━━━━━━━━━━━━━━━━━━━━━━━━━━━━━━\u001b[0m \u001b[32m49.6/49.6 kB\u001b[0m \u001b[31m4.8 MB/s\u001b[0m eta \u001b[36m0:00:00\u001b[0m\n",
            "\u001b[?25hCollecting tweedledum<2.0,>=1.1 (from qiskit-terra==0.20.2->qiskit==0.36.2)\n",
            "  Downloading tweedledum-1.1.1-cp310-cp310-manylinux_2_12_x86_64.manylinux2010_x86_64.whl (929 kB)\n",
            "\u001b[2K     \u001b[90m━━━━━━━━━━━━━━━━━━━━━━━━━━━━━━━━━━━━━━\u001b[0m \u001b[32m929.7/929.7 kB\u001b[0m \u001b[31m62.4 MB/s\u001b[0m eta \u001b[36m0:00:00\u001b[0m\n",
            "\u001b[?25hCollecting symengine>=0.9 (from qiskit-terra==0.20.2->qiskit==0.36.2)\n",
            "  Downloading symengine-0.10.0-cp310-cp310-manylinux_2_12_x86_64.manylinux2010_x86_64.whl (37.4 MB)\n",
            "\u001b[2K     \u001b[90m━━━━━━━━━━━━━━━━━━━━━━━━━━━━━━━━━━━━━━━━\u001b[0m \u001b[32m37.4/37.4 MB\u001b[0m \u001b[31m18.2 MB/s\u001b[0m eta \u001b[36m0:00:00\u001b[0m\n",
            "\u001b[?25hRequirement already satisfied: six>=1.5 in /usr/local/lib/python3.10/dist-packages (from python-dateutil>=2.8.0->qiskit-ibmq-provider==0.19.1->qiskit==0.36.2) (1.16.0)\n",
            "Requirement already satisfied: charset-normalizer<4,>=2 in /usr/local/lib/python3.10/dist-packages (from requests>=2.19->qiskit-ibmq-provider==0.19.1->qiskit==0.36.2) (3.2.0)\n",
            "Requirement already satisfied: idna<4,>=2.5 in /usr/local/lib/python3.10/dist-packages (from requests>=2.19->qiskit-ibmq-provider==0.19.1->qiskit==0.36.2) (3.4)\n",
            "Requirement already satisfied: certifi>=2017.4.17 in /usr/local/lib/python3.10/dist-packages (from requests>=2.19->qiskit-ibmq-provider==0.19.1->qiskit==0.36.2) (2023.7.22)\n",
            "Requirement already satisfied: cryptography>=1.3 in /usr/local/lib/python3.10/dist-packages (from requests-ntlm>=1.1.0->qiskit-ibmq-provider==0.19.1->qiskit==0.36.2) (41.0.3)\n",
            "Collecting pyspnego>=0.1.6 (from requests-ntlm>=1.1.0->qiskit-ibmq-provider==0.19.1->qiskit==0.36.2)\n",
            "  Downloading pyspnego-0.10.1-py3-none-any.whl (129 kB)\n",
            "\u001b[2K     \u001b[90m━━━━━━━━━━━━━━━━━━━━━━━━━━━━━━━━━━━━━━\u001b[0m \u001b[32m129.8/129.8 kB\u001b[0m \u001b[31m12.1 MB/s\u001b[0m eta \u001b[36m0:00:00\u001b[0m\n",
            "\u001b[?25hCollecting rustworkx==0.13.1 (from retworkx>=0.8.0->qiskit-ignis==0.7.1->qiskit==0.36.2)\n",
            "  Downloading rustworkx-0.13.1-cp310-cp310-manylinux_2_17_x86_64.manylinux2014_x86_64.whl (2.0 MB)\n",
            "\u001b[2K     \u001b[90m━━━━━━━━━━━━━━━━━━━━━━━━━━━━━━━━━━━━━━━━\u001b[0m \u001b[32m2.0/2.0 MB\u001b[0m \u001b[31m67.4 MB/s\u001b[0m eta \u001b[36m0:00:00\u001b[0m\n",
            "\u001b[?25hCollecting pbr!=2.1.0,>=2.0.0 (from stevedore>=3.0.0->qiskit-terra==0.20.2->qiskit==0.36.2)\n",
            "  Downloading pbr-5.11.1-py2.py3-none-any.whl (112 kB)\n",
            "\u001b[2K     \u001b[90m━━━━━━━━━━━━━━━━━━━━━━━━━━━━━━━━━━━━━━\u001b[0m \u001b[32m112.7/112.7 kB\u001b[0m \u001b[31m13.2 MB/s\u001b[0m eta \u001b[36m0:00:00\u001b[0m\n",
            "\u001b[?25hRequirement already satisfied: mpmath>=0.19 in /usr/local/lib/python3.10/dist-packages (from sympy>=1.3->qiskit-terra==0.20.2->qiskit==0.36.2) (1.3.0)\n",
            "Requirement already satisfied: cffi>=1.12 in /usr/local/lib/python3.10/dist-packages (from cryptography>=1.3->requests-ntlm>=1.1.0->qiskit-ibmq-provider==0.19.1->qiskit==0.36.2) (1.15.1)\n",
            "Requirement already satisfied: pycparser in /usr/local/lib/python3.10/dist-packages (from cffi>=1.12->cryptography>=1.3->requests-ntlm>=1.1.0->qiskit-ibmq-provider==0.19.1->qiskit==0.36.2) (2.21)\n",
            "Building wheels for collected packages: qiskit, python-constraint\n",
            "  Building wheel for qiskit (setup.py) ... \u001b[?25l\u001b[?25hdone\n",
            "  Created wheel for qiskit: filename=qiskit-0.36.2-py3-none-any.whl size=11909 sha256=c658ec3c90a609387fe716cc9644f1eb66676bca50f7f6eb99c3670398a781cf\n",
            "  Stored in directory: /root/.cache/pip/wheels/72/a3/12/8578033569eca9adf34d8323ab699dff3fb36b17f2af369512\n",
            "  Building wheel for python-constraint (setup.py) ... \u001b[?25l\u001b[?25hdone\n",
            "  Created wheel for python-constraint: filename=python_constraint-1.4.0-py2.py3-none-any.whl size=24058 sha256=61a6f37b499806428c5ae7c24e0ef6ec1bbf1f7fb6dec91d5b913f33a534e444\n",
            "  Stored in directory: /root/.cache/pip/wheels/2e/f2/2b/cb08b5fe129e4f69b7033061f256e5c551b0aa1160c2872aee\n",
            "Successfully built qiskit python-constraint\n",
            "Installing collected packages: python-constraint, ply, websockets, tweedledum, symengine, rustworkx, pbr, dill, stevedore, retworkx, qiskit-terra, pyspnego, requests-ntlm, qiskit-ignis, qiskit-aer, qiskit-ibmq-provider, qiskit\n",
            "Successfully installed dill-0.3.7 pbr-5.11.1 ply-3.11 pyspnego-0.10.1 python-constraint-1.4.0 qiskit-0.36.2 qiskit-aer-0.10.4 qiskit-ibmq-provider-0.19.1 qiskit-ignis-0.7.1 qiskit-terra-0.20.2 requests-ntlm-1.2.0 retworkx-0.13.1 rustworkx-0.13.1 stevedore-5.1.0 symengine-0.10.0 tweedledum-1.1.1 websockets-11.0.3\n"
          ]
        }
      ],
      "source": [
        "pip install -U qiskit==0.36.2"
      ]
    },
    {
      "cell_type": "code",
      "source": [
        "pip install pylatexenc"
      ],
      "metadata": {
        "colab": {
          "base_uri": "https://localhost:8080/"
        },
        "id": "xR6OTcx4Uj4S",
        "outputId": "d45e5c60-65cc-4151-f330-11e24b004069"
      },
      "execution_count": 3,
      "outputs": [
        {
          "output_type": "stream",
          "name": "stdout",
          "text": [
            "Collecting pylatexenc\n",
            "  Downloading pylatexenc-2.10.tar.gz (162 kB)\n",
            "\u001b[2K     \u001b[90m━━━━━━━━━━━━━━━━━━━━━━━━━━━━━━━━━━━━━━━\u001b[0m \u001b[32m162.6/162.6 kB\u001b[0m \u001b[31m2.6 MB/s\u001b[0m eta \u001b[36m0:00:00\u001b[0m\n",
            "\u001b[?25h  Preparing metadata (setup.py) ... \u001b[?25l\u001b[?25hdone\n",
            "Building wheels for collected packages: pylatexenc\n",
            "  Building wheel for pylatexenc (setup.py) ... \u001b[?25l\u001b[?25hdone\n",
            "  Created wheel for pylatexenc: filename=pylatexenc-2.10-py3-none-any.whl size=136818 sha256=6d0ad4dcf194122cadf259a2485d0893232692f4cb3f0846c9702fe0d99a39c8\n",
            "  Stored in directory: /root/.cache/pip/wheels/d3/31/8b/e09b0386afd80cfc556c00408c9aeea5c35c4d484a9c762fd5\n",
            "Successfully built pylatexenc\n",
            "Installing collected packages: pylatexenc\n",
            "Successfully installed pylatexenc-2.10\n"
          ]
        }
      ]
    },
    {
      "cell_type": "markdown",
      "source": [
        "## Conectando com o IBMQ"
      ],
      "metadata": {
        "id": "OhPtwkr0MU8l"
      }
    },
    {
      "cell_type": "code",
      "source": [
        "import qiskit"
      ],
      "metadata": {
        "id": "6woEjNTVTeub"
      },
      "execution_count": 4,
      "outputs": []
    },
    {
      "cell_type": "code",
      "source": [
        "qiskit.__qiskit_version__"
      ],
      "metadata": {
        "colab": {
          "base_uri": "https://localhost:8080/"
        },
        "id": "vzWPiGWt5ZuY",
        "outputId": "2db85d24-3a6e-4e56-bda8-53a34bf7f94b"
      },
      "execution_count": 5,
      "outputs": [
        {
          "output_type": "execute_result",
          "data": {
            "text/plain": [
              "{'qiskit-terra': '0.20.2', 'qiskit-aer': '0.10.4', 'qiskit-ignis': '0.7.1', 'qiskit-ibmq-provider': '0.19.1', 'qiskit-aqua': None, 'qiskit': '0.36.2', 'qiskit-nature': None, 'qiskit-finance': None, 'qiskit-optimization': None, 'qiskit-machine-learning': None}"
            ]
          },
          "metadata": {},
          "execution_count": 5
        }
      ]
    },
    {
      "cell_type": "code",
      "source": [
        "# Copie se API Token no IBMQ e cole aqui\n",
        "qiskit.IBMQ.save_account('ade2e1cd8926fee57b535ff0761ddac06ce27b6ea7ea0ecb60121d873ccf19578850d46431bbb002e5a64db18657e028fd17ae71b73ce25c57002e2ff579eeb6', overwrite = True)\n",
        "\n",
        "# Execute esse comando uma vez só\n",
        "qiskit.IBMQ.load_account()"
      ],
      "metadata": {
        "colab": {
          "base_uri": "https://localhost:8080/"
        },
        "id": "-yFiE8eMT1bM",
        "outputId": "8029544f-ead8-4b9c-b712-450f0ed91662"
      },
      "execution_count": 6,
      "outputs": [
        {
          "output_type": "execute_result",
          "data": {
            "text/plain": [
              "<AccountProvider for IBMQ(hub='ibm-q', group='open', project='main')>"
            ]
          },
          "metadata": {},
          "execution_count": 6
        }
      ]
    },
    {
      "cell_type": "code",
      "source": [
        "provider = qiskit.IBMQ.get_provider(hub='ibm-q', group='open', project='main')\n",
        "provider.backends()"
      ],
      "metadata": {
        "colab": {
          "base_uri": "https://localhost:8080/"
        },
        "id": "afqHebPEUCcd",
        "outputId": "22588103-1bb7-4a02-b22a-123cebc56709"
      },
      "execution_count": 7,
      "outputs": [
        {
          "output_type": "execute_result",
          "data": {
            "text/plain": [
              "[<IBMQSimulator('ibmq_qasm_simulator') from IBMQ(hub='ibm-q', group='open', project='main')>,\n",
              " <IBMQSimulator('simulator_statevector') from IBMQ(hub='ibm-q', group='open', project='main')>,\n",
              " <IBMQSimulator('simulator_mps') from IBMQ(hub='ibm-q', group='open', project='main')>,\n",
              " <IBMQSimulator('simulator_extended_stabilizer') from IBMQ(hub='ibm-q', group='open', project='main')>,\n",
              " <IBMQSimulator('simulator_stabilizer') from IBMQ(hub='ibm-q', group='open', project='main')>,\n",
              " <IBMQBackend('ibm_lagos') from IBMQ(hub='ibm-q', group='open', project='main')>,\n",
              " <IBMQBackend('ibm_nairobi') from IBMQ(hub='ibm-q', group='open', project='main')>,\n",
              " <IBMQBackend('ibm_perth') from IBMQ(hub='ibm-q', group='open', project='main')>,\n",
              " <IBMQBackend('ibm_brisbane') from IBMQ(hub='ibm-q', group='open', project='main')>]"
            ]
          },
          "metadata": {},
          "execution_count": 7
        }
      ]
    },
    {
      "cell_type": "markdown",
      "source": [
        "## Criando circuitos quânticos"
      ],
      "metadata": {
        "id": "heQmoVP3MkvN"
      }
    },
    {
      "cell_type": "code",
      "source": [
        "from qiskit import *\n",
        "\n",
        "qr = QuantumRegister(2)\n",
        "cr = ClassicalRegister(2)\n",
        "qc = QuantumCircuit(qr,cr)\n",
        "qc.h(qr[0])\n",
        "qc.cx(qr[0],qr[1])\n",
        "qc.measure(qr[0],cr[0])\n",
        "qc.measure(qr[1],cr[1])\n",
        "qc.draw(output='mpl')"
      ],
      "metadata": {
        "id": "iIAgPEn0UPlh",
        "colab": {
          "base_uri": "https://localhost:8080/",
          "height": 255
        },
        "outputId": "e64e12c9-3073-416b-f464-ca61c4a861ea"
      },
      "execution_count": 9,
      "outputs": [
        {
          "output_type": "execute_result",
          "data": {
            "text/plain": [
              "<Figure size 472.747x284.278 with 1 Axes>"
            ],
            "image/png": "[encoded data removed]"
          },
          "metadata": {},
          "execution_count": 9
        }
      ]
    },
    {
      "cell_type": "markdown",
      "source": [
        "## Simulação"
      ],
      "metadata": {
        "id": "jJ9qGyNXMO7t"
      }
    },
    {
      "cell_type": "code",
      "source": [
        "simulator = Aer.get_backend('qasm_simulator')\n",
        "\n",
        "nshots = 8192 # número de \"prepara-e-mede\"\n",
        "\n",
        "job = execute(qc, backend = simulator, shots = nshots)\n",
        "\n",
        "from qiskit.tools.visualization import plot_histogram\n",
        "plot_histogram(job.result().get_counts(qc))"
      ],
      "metadata": {
        "colab": {
          "base_uri": "https://localhost:8080/",
          "height": 464
        },
        "id": "U34nSy2aKH-p",
        "outputId": "297c7042-5e83-4f10-f995-ec4057df2520"
      },
      "execution_count": 10,
      "outputs": [
        {
          "output_type": "execute_result",
          "data": {
            "text/plain": [
              "<Figure size 700x500 with 1 Axes>"
            ],
            "image/png": "[encoded data removed]"
          },
          "metadata": {},
          "execution_count": 10
        }
      ]
    },
    {
      "cell_type": "code",
      "source": [
        "counts = job.result().get_counts(qc)\n",
        "counts"
      ],
      "metadata": {
        "colab": {
          "base_uri": "https://localhost:8080/"
        },
        "id": "fUJl31t1KIon",
        "outputId": "c06bd10e-7087-49e3-af2a-d6b1bdde1baf"
      },
      "execution_count": 11,
      "outputs": [
        {
          "output_type": "execute_result",
          "data": {
            "text/plain": [
              "{'11': 4142, '00': 4050}"
            ]
          },
          "metadata": {},
          "execution_count": 11
        }
      ]
    },
    {
      "cell_type": "code",
      "source": [
        "counts['00']"
      ],
      "metadata": {
        "colab": {
          "base_uri": "https://localhost:8080/"
        },
        "id": "5pa0HbpOMAbD",
        "outputId": "2637ddff-a040-489c-90e6-a3fb8db017fa"
      },
      "execution_count": 12,
      "outputs": [
        {
          "output_type": "execute_result",
          "data": {
            "text/plain": [
              "4050"
            ]
          },
          "metadata": {},
          "execution_count": 12
        }
      ]
    },
    {
      "cell_type": "code",
      "source": [
        "# probabilidade\n",
        "p00 = 0; p01 = 0; p10 = 0; p11 = 0\n",
        "for j in (0,2):\n",
        "    for k in (0,2):\n",
        "        if '00' in counts:\n",
        "            p00 = counts['00']/nshots\n",
        "        if '01' in counts:\n",
        "            p01 = counts['01']/nshots\n",
        "        if '10' in counts:\n",
        "            p10 = counts['10']/nshots\n",
        "        if '11' in counts:\n",
        "            p11 = counts['11']/nshots\n",
        "p00, p01, p10, p11"
      ],
      "metadata": {
        "colab": {
          "base_uri": "https://localhost:8080/"
        },
        "id": "WCiUZHBeMDBf",
        "outputId": "de92b9d8-9fbc-43e9-eebf-d42f6d418d69"
      },
      "execution_count": 13,
      "outputs": [
        {
          "output_type": "execute_result",
          "data": {
            "text/plain": [
              "(0.494384765625, 0, 0, 0.505615234375)"
            ]
          },
          "metadata": {},
          "execution_count": 13
        }
      ]
    },
    {
      "cell_type": "markdown",
      "source": [
        "## Experimento"
      ],
      "metadata": {
        "id": "lILvOKARMLEj"
      }
    },
    {
      "cell_type": "code",
      "source": [
        "device = provider.get_backend('ibm_nairobi')\n",
        "from qiskit.tools.monitor import job_monitor\n",
        "\n",
        "job = execute(qc, backend = device, shots = nshots)\n",
        "job_monitor(job)"
      ],
      "metadata": {
        "colab": {
          "base_uri": "https://localhost:8080/"
        },
        "id": "M8Ka2gFHMGHX",
        "outputId": "39e20cd7-27a6-4f7d-e887-f9ab5cdd4523"
      },
      "execution_count": null,
      "outputs": [
        {
          "output_type": "stream",
          "name": "stdout",
          "text": [
            "Job Status: job has successfully run\n"
          ]
        }
      ]
    },
    {
      "cell_type": "code",
      "source": [
        "plot_histogram(job.result().get_counts(qc))"
      ],
      "metadata": {
        "colab": {
          "base_uri": "https://localhost:8080/",
          "height": 461
        },
        "id": "sGVdXNgZNcOe",
        "outputId": "1df8aec5-9c2a-4153-87c8-0ba4edd9c146"
      },
      "execution_count": null,
      "outputs": [
        {
          "output_type": "execute_result",
          "data": {
            "text/plain": [
              "<Figure size 700x500 with 1 Axes>"
            ],
            "image/png": "[encoded data removed]"
          },
          "metadata": {},
          "execution_count": 16
        }
      ]
    },
    {
      "cell_type": "code",
      "source": [
        "counts = job.result().get_counts(qc)\n",
        "counts"
      ],
      "metadata": {
        "colab": {
          "base_uri": "https://localhost:8080/"
        },
        "id": "CZ6JpMZYNxxA",
        "outputId": "2e72d9db-8d51-4ebe-f775-61ecbdcee2c0"
      },
      "execution_count": null,
      "outputs": [
        {
          "output_type": "execute_result",
          "data": {
            "text/plain": [
              "{'10': 218, '00': 3993, '11': 3804, '01': 177}"
            ]
          },
          "metadata": {},
          "execution_count": 17
        }
      ]
    },
    {
      "cell_type": "code",
      "source": [
        "counts['00']"
      ],
      "metadata": {
        "colab": {
          "base_uri": "https://localhost:8080/"
        },
        "id": "lpmJRHtXN0sI",
        "outputId": "2cf708de-86f8-40e7-e256-96472f2c6484"
      },
      "execution_count": null,
      "outputs": [
        {
          "output_type": "execute_result",
          "data": {
            "text/plain": [
              "3993"
            ]
          },
          "metadata": {},
          "execution_count": 18
        }
      ]
    },
    {
      "cell_type": "code",
      "source": [
        "# probabilidade\n",
        "p00 = 0; p01 = 0; p10 = 0; p11 = 0\n",
        "for j in (0,2):\n",
        "    for k in (0,2):\n",
        "        if '00' in counts:\n",
        "            p00 = counts['00']/nshots\n",
        "        if '01' in counts:\n",
        "            p01 = counts['01']/nshots\n",
        "        if '10' in counts:\n",
        "            p10 = counts['10']/nshots\n",
        "        if '11' in counts:\n",
        "            p11 = counts['11']/nshots\n",
        "p00, p01, p10, p11"
      ],
      "metadata": {
        "colab": {
          "base_uri": "https://localhost:8080/"
        },
        "id": "p3u-dTBJNtVc",
        "outputId": "36674506-f75d-4856-df8a-f4f927c3895f"
      },
      "execution_count": null,
      "outputs": [
        {
          "output_type": "execute_result",
          "data": {
            "text/plain": [
              "(0.4874267578125, 0.0216064453125, 0.026611328125, 0.46435546875)"
            ]
          },
          "metadata": {},
          "execution_count": 19
        }
      ]
    }
  ]
}