{
 "cells": [
  {
   "cell_type": "markdown",
   "id": "e6344af9",
   "metadata": {
    "slideshow": {
     "slide_type": "slide"
    }
   },
   "source": [
    "### Computação Quântica com Qiskit\n",
    "\n",
    "##### Jonas Maziero\n",
    "\n",
    "<table>\n",
    "<td> Universidade Federal de Santa Maria <br>\n",
    "Centro de Ciências Naturais e Exatas <br>\n",
    "Departamento de Física <br>\n",
    "https://sites.google.com/site/jonasmaziero <br>\n",
    "jonas.maziero@ufsm.br \n",
    "    </td>\n",
    "    <td><img src='ufsm.jpg' width='250'></td>\n",
    "    <td><img src='inpe_ufsm.jpg' width='550'></td>\n",
    "</table>\n",
    "<table>\n",
    "    <td>Suporte Financeiro:</td>\n",
    "    <td><img src='cnpq.png' width='200'></td>\n",
    "    <td><img src='inct-iq.png' width='330'></td>\n",
    "    <td><img src='capes.png' width='100'></td>\n",
    "    <td><img src='fapergs.png' width='150'></td>\n",
    "    <td><img src='ufsm.jpg' width='75'></td>\n",
    "    </table>"
   ]
  },
  {
   "cell_type": "markdown",
   "id": "f6890d85",
   "metadata": {
    "slideshow": {
     "slide_type": "slide"
    }
   },
   "source": [
    "# Aula 7\n",
    "\n",
    "- Teste de Elitzur-Vaidman para bombas."
   ]
  },
  {
   "cell_type": "markdown",
   "id": "03cb12cd",
   "metadata": {
    "slideshow": {
     "slide_type": "slide"
    }
   },
   "source": [
    "# A bomba\n",
    "\n",
    "- Bomba não explodida: $|0\\rangle;$\n",
    "- Bomba explodida: $|1\\rangle.$\n",
    "\n",
    "A bomba é sensível a um único fóton, e ao absorvê-lo a bomba explodirá:\n",
    "$$U_b|0\\rangle=|1\\rangle.$$\n",
    "\n",
    "Estado inicial da bomba: $|0\\rangle$."
   ]
  },
  {
   "cell_type": "code",
   "execution_count": null,
   "id": "03eadda2",
   "metadata": {
    "slideshow": {
     "slide_type": "slide"
    }
   },
   "outputs": [],
   "source": []
  },
  {
   "cell_type": "code",
   "execution_count": null,
   "id": "1302ba48",
   "metadata": {},
   "outputs": [],
   "source": []
  },
  {
   "cell_type": "code",
   "execution_count": null,
   "id": "c20a49ba",
   "metadata": {},
   "outputs": [],
   "source": []
  },
  {
   "cell_type": "code",
   "execution_count": null,
   "id": "d3c3f40f",
   "metadata": {
    "slideshow": {
     "slide_type": "skip"
    }
   },
   "outputs": [],
   "source": []
  }
 ],
 "metadata": {
  "celltoolbar": "Slideshow",
  "kernelspec": {
   "display_name": "Python 3 (ipykernel)",
   "language": "python",
   "name": "python3"
  },
  "language_info": {
   "codemirror_mode": {
    "name": "ipython",
    "version": 3
   },
   "file_extension": ".py",
   "mimetype": "text/x-python",
   "name": "python",
   "nbconvert_exporter": "python",
   "pygments_lexer": "ipython3",
   "version": "3.9.13"
  },
  "rise": {
   "theme": "sky"
  }
 },
 "nbformat": 4,
 "nbformat_minor": 5
}
