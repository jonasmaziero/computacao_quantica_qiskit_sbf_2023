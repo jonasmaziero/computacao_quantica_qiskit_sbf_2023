{
 "cells": [
  {
   "cell_type": "markdown",
   "id": "d0855986",
   "metadata": {
    "slideshow": {
     "slide_type": "slide"
    }
   },
   "source": [
    "### Computação Quântica com Qiskit\n",
    "\n",
    "##### Jonas Maziero\n",
    "\n",
    "<table>\n",
    "<td> Universidade Federal de Santa Maria <br>\n",
    "Centro de Ciências Naturais e Exatas <br>\n",
    "Departamento de Física <br>\n",
    "https://sites.google.com/site/jonasmaziero <br>\n",
    "jonas.maziero@ufsm.br \n",
    "    </td>\n",
    "    <td><img src='ufsm.jpg' width='250'></td>\n",
    "    <td><img src='inpe_ufsm.jpg' width='550'></td>\n",
    "</table>\n",
    "<table>\n",
    "    <td>Suporte Financeiro:</td>\n",
    "    <td><img src='cnpq.png' width='200'></td>\n",
    "    <td><img src='inct-iq.png' width='330'></td>\n",
    "    <td><img src='capes.png' width='100'></td>\n",
    "    <td><img src='fapergs.png' width='150'></td>\n",
    "    <td><img src='ufsm.jpg' width='75'></td>\n",
    "    </table>"
   ]
  },
  {
   "cell_type": "markdown",
   "id": "58518247",
   "metadata": {
    "slideshow": {
     "slide_type": "slide"
    }
   },
   "source": [
    "## Aula 3\n",
    "\n",
    "- Revisão da aula anterior;\n",
    "- Paradoxo EPR; \n",
    "- Desigualdades de Bell; \n",
    "- Demonstração de violação de desigualdades de Bell com o IBMQ; \n",
    "- Comunicação superluminal; \n",
    "- Teorema da não clonagem quântica."
   ]
  },
  {
   "cell_type": "markdown",
   "id": "fa967517",
   "metadata": {
    "slideshow": {
     "slide_type": "slide"
    }
   },
   "source": [
    "# O paradoxo EPR"
   ]
  },
  {
   "cell_type": "markdown",
   "id": "8169124c",
   "metadata": {
    "slideshow": {
     "slide_type": "slide"
    }
   },
   "source": [
    "A. Einstein, B. Podolsky, and N. Rosen, “Can Quantum-Mechanical Description of Physical Reality Be Considered Complete?,” Phys. Rev. 47, 777 (1935).\n",
    "\n",
    "__Teoria completa__: Cada elemento da teoria corresponde a um elemento de realidade. <br>\n",
    "__Realismo__: Uma quantidade física é real se podemos prevê-la com certeza sem perturbar o sistema.\n",
    "\n",
    "Argumento: Consideremos o seguinte estado de spin de dois quantons de spin 1/2:\n",
    "\\begin{equation}\n",
    "|\\Psi_{-}\\rangle_{AB} = \\frac{1}{\\sqrt{2}}\\left(|0\\rangle_{A}\\otimes|1\\rangle_{B} - |1\\rangle_{A}\\otimes|0\\rangle_{B}\\right).\n",
    "\\end{equation}\n",
    "Usando $|\\pm\\rangle_{S}=(|0\\rangle_{S}\\pm|1\\rangle_{S})/\\sqrt{2},$\n",
    "para $S=A,B$, pode-se verificar que:\n",
    "\\begin{equation}\n",
    "|\\Psi_{-}\\rangle_{AB} = \\frac{e^{i\\pi}}{\\sqrt{2}}\\left(|+\\rangle_{A}\\otimes|-\\rangle_{B} - |-\\rangle_{A}\\otimes|+\\rangle_{B}\\right).\n",
    "\\end{equation}"
   ]
  },
  {
   "cell_type": "markdown",
   "id": "05b8acd4",
   "metadata": {
    "slideshow": {
     "slide_type": "slide"
    }
   },
   "source": [
    "Considere que medimos um dos observáveis $Z$ ou $X$ do quanton da Alice. Se $\\{|0\\rangle,|1\\rangle\\}^{A}$ ou $\\{|+\\rangle,|-\\rangle\\}^{A}$ é obtido, pela correlação que há entre os qubits, o estado do quanton do Bob depois das medidas será $\\{|1\\rangle,|0\\rangle\\}^{A}$ ou $\\{|-\\rangle,|+\\rangle\\}^{A}$. Como exemplo, consideremos\n",
    "\\begin{align}\n",
    "|\\Psi_{-}\\rangle_{AB} \\xrightarrow[]{|0\\rangle_A} &\\propto \\Pi_{0}^{A}\\otimes\\mathbb{I}_{B}|\\Psi_{-}\\rangle_{AB} \\\\\n",
    "& = |0\\rangle_{A}\\langle 0|\\otimes\\mathbb{I}_{B}|\\Psi_{-}\\rangle_{AB} \\\\\n",
    "& = \\frac{1}{\\sqrt{2}}\\left(|0\\rangle_{A}\\langle 0|0\\rangle_{A}\\otimes\\mathbb{I}_{B}|1\\rangle_{B} - |0\\rangle_{A}\\langle 0|1\\rangle_{A}\\otimes\\mathbb{I}_{B}|0\\rangle_{B}\\right) \\\\\n",
    "& = \\frac{1}{\\sqrt{2}}|0\\rangle_{A}\\otimes|1\\rangle_{B}.\n",
    "\\end{align}"
   ]
  },
  {
   "cell_type": "markdown",
   "id": "ddd9374d",
   "metadata": {
    "slideshow": {
     "slide_type": "slide"
    }
   },
   "source": [
    "e\n",
    "\\begin{align}\n",
    "|\\Psi_{-}\\rangle_{AB} \\xrightarrow[]{|+\\rangle_{A}} & \\propto \\Pi_{+}^{A}\\otimes\\mathbb{I}_{B}|\\Psi_{-}\\rangle_{AB} \\\\\n",
    "& = |+\\rangle_{A}\\langle +|\\otimes\\mathbb{I}_{B}|\\Psi_{-}\\rangle_{AB} \\\\\n",
    "& = \\frac{e^{i\\pi}}{\\sqrt{2}}\\left(|+\\rangle_{A}\\langle +|+\\rangle_{A}\\otimes\\mathbb{I}_{B}|-\\rangle_{B} - |+\\rangle_{A}\\langle +|-\\rangle_{A}\\otimes\\mathbb{I}_{B}|+\\rangle_{B}\\right) \\\\\n",
    "& = \\frac{e^{i\\pi}}{\\sqrt{2}}|+\\rangle_{A}\\otimes|-\\rangle_{B}.\n",
    "\\end{align}\n",
    "\n",
    "__Localidade__: Medidas feitas por Alice não podem afetar o resultado das medidas que foram, que serão ou que estão sendo feitas por Bob. <br>\n",
    "Usando $|\\Psi_-\\rangle_{AB}$ podemos prever com certeza e sem perturbar o sistema $B$, os resultados de medidas de dois _observáveis incompatíveis_ $Z$ ou $X$ do quanton do Bob."
   ]
  },
  {
   "cell_type": "markdown",
   "id": "b6f9f3e3",
   "metadata": {
    "slideshow": {
     "slide_type": "slide"
    }
   },
   "source": [
    "__Conclusão de EPR__: A MQ não é uma teoria completa.\n",
    "\n",
    "__Expectativa de EPR__: Essa teoria completa deve existir."
   ]
  },
  {
   "cell_type": "markdown",
   "id": "4ef5856d",
   "metadata": {
    "slideshow": {
     "slide_type": "slide"
    }
   },
   "source": [
    "## Desigualdades de Bell-CHSH"
   ]
  },
  {
   "cell_type": "markdown",
   "id": "ff86cf39",
   "metadata": {
    "slideshow": {
     "slide_type": "slide"
    }
   },
   "source": [
    "<table>\n",
    "    <td><img src='fig_bell.jpg' width='480'></td>\n",
    "   <td> Consideramos o seguinte observável: $$O = A_{1}(B_{1} + B_{2}) + A_{2}(B_{1} - B_{2}),$$\n",
    "       com $A_{j},B_{k}=\\pm1$. </td>\n",
    "     </table>\n",
    "     Valor médio\n",
    "\\begin{equation}\n",
    "\\langle O\\rangle_{dl} = \\int d\\lambda\\rho(\\lambda) \\left\\{a_{1}(\\lambda)[b_{1}(\\lambda) + b_{2}(\\lambda)] + a_{2}(\\lambda)[b_{1}(\\lambda) - b_{2}(\\lambda)]\\right\\}.\n",
    "\\end{equation}\n",
    "Determinismo: e.g. $a_{j}=a_{j}(\\lambda)$, Localidade: e.g. $a_{j}\\ne a_{j}(\\lambda,b_{k})$.\n",
    "\n",
    "Valores de $O$: $\\pm2$. __Determinismo e localidade__ implicam na desigualdade CHSH: $$-2 \\le \\langle O\\rangle_{dl} \\le 2.$$"
   ]
  },
  {
   "cell_type": "markdown",
   "id": "b0c2c933",
   "metadata": {
    "slideshow": {
     "slide_type": "slide"
    }
   },
   "source": [
    "#### Cálculo usando Mecânica Quântica\n",
    "Observáveis\n",
    "$$A_{1}=Z,\\ A_{2}=X,\\ B_{1}=2^{-1/2}(Z+X),\\ B_{2}=2^{-1/2}(Z-X).$$\n",
    "Pode-se verificar que nesse caso\n",
    "\\begin{equation}\n",
    "O=\\sqrt{2}\\big(Z\\otimes Z+X\\otimes X\\big).\n",
    "\\end{equation}\n",
    "Para a preparação $$|\\Psi_{-}\\rangle = (|01\\rangle-|10\\rangle)/\\sqrt{2},$$ usando \n",
    "$Z|0\\rangle=|0\\rangle,\\ Z|1\\rangle=-|1\\rangle,$ teremos que \n",
    "\\begin{align}\n",
    "Z\\otimes Z|\\Psi_{-}\\rangle_{AB} & = 2^{-1/2}\\left(|0\\rangle_{A}\\otimes(-|1\\rangle_{B}) - (-|1\\rangle_{A})\\otimes|0\\rangle_{B}\\right) =-|\\Psi_{-}\\rangle_{AB}.\n",
    "\\end{align}\n",
    "De \n",
    "$X|0\\rangle=|1\\rangle,\\ X|1\\rangle=|0\\rangle$\n",
    "temos \n",
    "$$X\\otimes X|\\Psi_{-}\\rangle_{AB}=-|\\Psi_{-}\\rangle_{AB}.$$\n",
    "Assim\n",
    "\\begin{align}\n",
    "\\langle O\\rangle_{mq} & = \\langle\\Psi_{-}|O|\\Psi_{-}\\rangle = \\langle\\Psi_{-}|\\sqrt{2}(-2|\\Psi_{-}\\rangle) = -2\\sqrt{2}.\n",
    "\\end{align}"
   ]
  },
  {
   "cell_type": "markdown",
   "id": "136ad7d8",
   "metadata": {
    "slideshow": {
     "slide_type": "slide"
    }
   },
   "source": [
    "#### Usando o Sympy"
   ]
  },
  {
   "cell_type": "code",
   "execution_count": 241,
   "id": "713cad6d",
   "metadata": {},
   "outputs": [
    {
     "data": {
      "text/latex": [
       "$\\displaystyle \\left[\\begin{matrix}0\\\\\\frac{\\sqrt{2}}{2}\\\\- \\frac{\\sqrt{2}}{2}\\\\0\\end{matrix}\\right]$"
      ],
      "text/plain": [
       "⎡ 0  ⎤\n",
       "⎢    ⎥\n",
       "⎢ √2 ⎥\n",
       "⎢ ── ⎥\n",
       "⎢ 2  ⎥\n",
       "⎢    ⎥\n",
       "⎢-√2 ⎥\n",
       "⎢────⎥\n",
       "⎢ 2  ⎥\n",
       "⎢    ⎥\n",
       "⎣ 0  ⎦"
      ]
     },
     "execution_count": 241,
     "metadata": {},
     "output_type": "execute_result"
    }
   ],
   "source": [
    "Psim = (ket01-ket10)/sqrt(2); Psim"
   ]
  },
  {
   "cell_type": "code",
   "execution_count": 242,
   "id": "d651ff60",
   "metadata": {},
   "outputs": [
    {
     "data": {
      "text/latex": [
       "$\\displaystyle \\left( \\left[\\begin{matrix}0\\\\- \\frac{\\sqrt{2}}{2}\\\\\\frac{\\sqrt{2}}{2}\\\\0\\end{matrix}\\right], \\  \\left[\\begin{matrix}0\\\\- \\frac{\\sqrt{2}}{2}\\\\\\frac{\\sqrt{2}}{2}\\\\0\\end{matrix}\\right]\\right)$"
      ],
      "text/plain": [
       "⎛⎡ 0  ⎤  ⎡ 0  ⎤⎞\n",
       "⎜⎢    ⎥  ⎢    ⎥⎟\n",
       "⎜⎢-√2 ⎥  ⎢-√2 ⎥⎟\n",
       "⎜⎢────⎥  ⎢────⎥⎟\n",
       "⎜⎢ 2  ⎥  ⎢ 2  ⎥⎟\n",
       "⎜⎢    ⎥, ⎢    ⎥⎟\n",
       "⎜⎢ √2 ⎥  ⎢ √2 ⎥⎟\n",
       "⎜⎢ ── ⎥  ⎢ ── ⎥⎟\n",
       "⎜⎢ 2  ⎥  ⎢ 2  ⎥⎟\n",
       "⎜⎢    ⎥  ⎢    ⎥⎟\n",
       "⎝⎣ 0  ⎦  ⎣ 0  ⎦⎠"
      ]
     },
     "execution_count": 242,
     "metadata": {},
     "output_type": "execute_result"
    }
   ],
   "source": [
    "tp(Z,Z)*Psim, tp(X,X)*Psim"
   ]
  },
  {
   "cell_type": "markdown",
   "id": "a04846e7",
   "metadata": {
    "slideshow": {
     "slide_type": "slide"
    }
   },
   "source": [
    "<table><td><img src='bell_qcircuit.png' width='1000'></td></table>\n",
    "Valor médio\n",
    "$$\\langle O\\rangle = \\sqrt{2}\\big(\\langle Z\\otimes Z\\rangle+\\langle X\\otimes X\\rangle\\big).$$\n",
    "Para calcular os valores médios a partir das probabilidades usamos\n",
    "\\begin{align}\n",
    "\\langle Z\\otimes Z\\rangle & = \\big(Pr(0,0)+Pr(1,1)\\big) - \\big(Pr(0,1)+Pr(1,0)\\big), \\\\\n",
    "\\langle X\\otimes X\\rangle & = \\big(Pr(+,+)+Pr(-,-)\\big) - \\big(Pr(+,-)+Pr(-,+)\\big).\n",
    "\\end{align}"
   ]
  },
  {
   "cell_type": "code",
   "execution_count": 243,
   "id": "4e62e54b",
   "metadata": {
    "slideshow": {
     "slide_type": "slide"
    }
   },
   "outputs": [
    {
     "data": {
      "image/png": "[encoded data removed]",
      "text/plain": [
       "<Figure size 370.906x200.667 with 1 Axes>"
      ]
     },
     "execution_count": 243,
     "metadata": {},
     "output_type": "execute_result"
    }
   ],
   "source": [
    "from qiskit import QuantumCircuit\n",
    "def qc_Psim(): # função que cria o circuito quantico para preparar o estado de Bell |Psi->\n",
    "    qc = QuantumCircuit(2, name=r'$|\\Psi_-\\rangle$')\n",
    "    qc.h(0)\n",
    "    qc.cx(0,1)\n",
    "    qc.z(0)\n",
    "    qc.x(1)\n",
    "    return qc\n",
    "qc_Psim_ = qc_Psim()\n",
    "qc_Psim_.draw('mpl')"
   ]
  },
  {
   "cell_type": "code",
   "execution_count": 244,
   "id": "04da65ca",
   "metadata": {
    "scrolled": true,
    "slideshow": {
     "slide_type": "slide"
    }
   },
   "outputs": [
    {
     "data": {
      "image/png": "[encoded data removed]",
      "text/plain": [
       "<Figure size 1500x500 with 2 Axes>"
      ]
     },
     "execution_count": 244,
     "metadata": {},
     "output_type": "execute_result"
    }
   ],
   "source": [
    "import qiskit\n",
    "from qiskit.quantum_info import Statevector\n",
    "qc_Psim_ = qc_Psim()\n",
    "state = Statevector(qc_Psim_)\n",
    "qiskit.visualization.plot_state_city(state)"
   ]
  },
  {
   "cell_type": "code",
   "execution_count": 245,
   "id": "148a9ee1",
   "metadata": {
    "scrolled": true,
    "slideshow": {
     "slide_type": "slide"
    }
   },
   "outputs": [
    {
     "data": {
      "text/latex": [
       "$\\displaystyle \\left[\\begin{matrix}0 & 0 & 0 & 0\\\\0 & \\frac{1}{2} & - \\frac{1}{2} & 0\\\\0 & - \\frac{1}{2} & \\frac{1}{2} & 0\\\\0 & 0 & 0 & 0\\end{matrix}\\right]$"
      ],
      "text/plain": [
       "⎡0   0     0    0⎤\n",
       "⎢                ⎥\n",
       "⎢0  1/2   -1/2  0⎥\n",
       "⎢                ⎥\n",
       "⎢0  -1/2  1/2   0⎥\n",
       "⎢                ⎥\n",
       "⎣0   0     0    0⎦"
      ]
     },
     "execution_count": 245,
     "metadata": {},
     "output_type": "execute_result"
    }
   ],
   "source": [
    "from sympy import Matrix\n",
    "Psim = Matrix([[0],[1],[-1],[0]])/sqrt(2)\n",
    "#Psim\n",
    "from sympy.physics.quantum.dagger import Dagger\n",
    "rho_Psim = Psim*Dagger(Psim)\n",
    "rho_Psim"
   ]
  },
  {
   "cell_type": "markdown",
   "id": "9476d637",
   "metadata": {
    "slideshow": {
     "slide_type": "slide"
    }
   },
   "source": [
    "## Simulação"
   ]
  },
  {
   "cell_type": "code",
   "execution_count": 246,
   "id": "bcb677b4",
   "metadata": {
    "slideshow": {
     "slide_type": "-"
    }
   },
   "outputs": [
    {
     "data": {
      "image/png": "[encoded data removed]",
      "text/plain": [
       "<Figure size 370.906x284.278 with 1 Axes>"
      ]
     },
     "execution_count": 246,
     "metadata": {},
     "output_type": "execute_result"
    }
   ],
   "source": [
    "# medida de ZZ\n",
    "qc = QuantumCircuit(2,2)\n",
    "qc_Psim_ = qc_Psim()\n",
    "qc.append(qc_Psim_,[0,1])\n",
    "qc.measure([0,1],[0,1])\n",
    "qc.draw('mpl')"
   ]
  },
  {
   "cell_type": "code",
   "execution_count": 247,
   "id": "7659d1e0",
   "metadata": {
    "slideshow": {
     "slide_type": "slide"
    }
   },
   "outputs": [
    {
     "data": {
      "image/png": "[encoded data removed]",
      "text/latex": [
       "$\\displaystyle -1.0$"
      ],
      "text/plain": [
       "-1.0"
      ]
     },
     "execution_count": 247,
     "metadata": {},
     "output_type": "execute_result"
    }
   ],
   "source": [
    "from qiskit import Aer\n",
    "simulator = Aer.get_backend('qasm_simulator')\n",
    "nshots = 10000\n",
    "job = execute(qc, backend=simulator, shots=nshots)\n",
    "counts = job.result().get_counts()\n",
    "p00=0; p01=0; p10=0; p11=0\n",
    "for j in (0,2):\n",
    "    for k in (0,2):\n",
    "        if '00' in counts:\n",
    "            p00 = counts['00']/nshots\n",
    "        if '01' in counts:\n",
    "            p01 = counts['01']/nshots\n",
    "        if '10' in counts:\n",
    "            p10 = counts['10']/nshots\n",
    "        if '11' in counts:\n",
    "            p11 = counts['11']/nshots\n",
    "ZZ_avg = p00+p11-p01-p10\n",
    "ZZ_avg"
   ]
  },
  {
   "cell_type": "code",
   "execution_count": 248,
   "id": "e71b4f91",
   "metadata": {
    "slideshow": {
     "slide_type": "slide"
    }
   },
   "outputs": [
    {
     "data": {
      "image/png": "[encoded data removed]",
      "text/plain": [
       "<Figure size 454.517x284.278 with 1 Axes>"
      ]
     },
     "execution_count": 248,
     "metadata": {},
     "output_type": "execute_result"
    }
   ],
   "source": [
    "# medida de XX\n",
    "qc = QuantumCircuit(2,2)\n",
    "qc_Psim_ = qc_Psim()\n",
    "qc.append(qc_Psim_,[0,1])\n",
    "qc.h([0,1])\n",
    "qc.measure([0,1],[0,1])\n",
    "qc.draw('mpl')"
   ]
  },
  {
   "cell_type": "code",
   "execution_count": 249,
   "id": "87815c6c",
   "metadata": {
    "slideshow": {
     "slide_type": "slide"
    }
   },
   "outputs": [
    {
     "data": {
      "image/png": "[encoded data removed]",
      "text/latex": [
       "$\\displaystyle -1.0$"
      ],
      "text/plain": [
       "-1.0"
      ]
     },
     "execution_count": 249,
     "metadata": {},
     "output_type": "execute_result"
    }
   ],
   "source": [
    "from qiskit import Aer\n",
    "simulator = Aer.get_backend('qasm_simulator')\n",
    "nshots = 10000\n",
    "job = execute(qc, backend=simulator, shots=nshots)\n",
    "counts = job.result().get_counts()\n",
    "p00=0; p01=0; p10=0; p11=0\n",
    "for j in (0,2):\n",
    "    for k in (0,2):\n",
    "        if '00' in counts:\n",
    "            p00 = counts['00']/nshots\n",
    "        if '01' in counts:\n",
    "            p01 = counts['01']/nshots\n",
    "        if '10' in counts:\n",
    "            p10 = counts['10']/nshots\n",
    "        if '11' in counts:\n",
    "            p11 = counts['11']/nshots\n",
    "XX_avg = p00+p11-p01-p10\n",
    "XX_avg"
   ]
  },
  {
   "cell_type": "code",
   "execution_count": 250,
   "id": "194cff08",
   "metadata": {},
   "outputs": [
    {
     "data": {
      "image/png": "[encoded data removed]",
      "text/latex": [
       "$\\displaystyle \\left( - 2.0 \\sqrt{2}, \\  -2.82842712474619\\right)$"
      ],
      "text/plain": [
       "(-2.0⋅√2, -2.8284271247461903)"
      ]
     },
     "execution_count": 250,
     "metadata": {},
     "output_type": "execute_result"
    }
   ],
   "source": [
    "O_avg = sqrt(2)*(ZZ_avg + XX_avg)\n",
    "O_avg, float(O_avg)"
   ]
  },
  {
   "cell_type": "markdown",
   "id": "41adadf5",
   "metadata": {
    "slideshow": {
     "slide_type": "slide"
    }
   },
   "source": [
    "## Experimento"
   ]
  },
  {
   "cell_type": "code",
   "execution_count": 252,
   "id": "0a9e6c39",
   "metadata": {},
   "outputs": [],
   "source": [
    "import qiskit\n",
    "qiskit.IBMQ.save_account('ee8631db565e87e97b066d08e02cafb9bfa745be07e573095b666daa608a37ce58ae6ef5c174aff56a935dadfe1fa9c82edfe37aec6b24774bc94613658cc7d8', \n",
    "                  overwrite = True)\n",
    "qiskit.IBMQ.load_account()\n",
    "provider = qiskit.IBMQ.get_provider(hub='ibm-q', group='open', project='main')"
   ]
  },
  {
   "cell_type": "code",
   "execution_count": 253,
   "id": "8e290bee",
   "metadata": {
    "slideshow": {
     "slide_type": "slide"
    }
   },
   "outputs": [
    {
     "name": "stdout",
     "output_type": "stream",
     "text": [
      "cmexaptrc9gg008cr3tg\n"
     ]
    }
   ],
   "source": [
    "device = provider.get_backend('ibm_nairobi')\n",
    "# medida de ZZ\n",
    "qc = QuantumCircuit(2,2)\n",
    "qc_Psim_ = qc_Psim()\n",
    "qc.append(qc_Psim_,[0,1])\n",
    "qc.measure([0,1],[0,1])\n",
    "job = execute(qc, backend = device, shots = nshots)\n",
    "print(job.job_id())"
   ]
  },
  {
   "cell_type": "code",
   "execution_count": null,
   "id": "49b3b17a",
   "metadata": {
    "slideshow": {
     "slide_type": "-"
    }
   },
   "outputs": [],
   "source": [
    "device = provider.get_backend('ibm_nairobi')\n",
    "job = device.retrieve_job('cme613czjkb0008crmvg')\n",
    "counts = job.result().get_counts()\n",
    "p00=0; p01=0; p10=0; p11=0\n",
    "for j in (0,2):\n",
    "    for k in (0,2):\n",
    "        if '00' in counts:\n",
    "            p00 = counts['00']/nshots\n",
    "        if '01' in counts:\n",
    "            p01 = counts['01']/nshots\n",
    "        if '10' in counts:\n",
    "            p10 = counts['10']/nshots\n",
    "        if '11' in counts:\n",
    "            p11 = counts['11']/nshots\n",
    "ZZ_avg_exp = p00+p11-p01-p10; ZZ_avg_exp"
   ]
  },
  {
   "cell_type": "code",
   "execution_count": null,
   "id": "8fae8905",
   "metadata": {
    "slideshow": {
     "slide_type": "slide"
    }
   },
   "outputs": [],
   "source": [
    "device = provider.get_backend('ibm_nairobi')\n",
    "# medida de XX\n",
    "qc = QuantumCircuit(2,2)\n",
    "qc_Psim_ = qc_Psim()\n",
    "qc.append(qc_Psim_,[0,1])\n",
    "qc.h([0,1]); qc.measure([0,1],[0,1])\n",
    "job = execute(qc, backend = device, shots = nshots)\n",
    "print(job.job_id())"
   ]
  },
  {
   "cell_type": "code",
   "execution_count": null,
   "id": "4dc75528",
   "metadata": {},
   "outputs": [],
   "source": [
    "device = provider.get_backend('ibm_nairobi')\n",
    "job = device.retrieve_job('cme5fyqzjkb0008crkyg')\n",
    "counts = job.result().get_counts()\n",
    "p00=0; p01=0; p10=0; p11=0\n",
    "for j in (0,2):\n",
    "    for k in (0,2):\n",
    "        if '00' in counts:\n",
    "            p00 = counts['00']/nshots\n",
    "        if '01' in counts:\n",
    "            p01 = counts['01']/nshots\n",
    "        if '10' in counts:\n",
    "            p10 = counts['10']/nshots\n",
    "        if '11' in counts:\n",
    "            p11 = counts['11']/nshots\n",
    "XX_avg_exp = p00+p11-p01-p10; XX_avg_exp"
   ]
  },
  {
   "cell_type": "code",
   "execution_count": null,
   "id": "d84d0752",
   "metadata": {
    "slideshow": {
     "slide_type": "slide"
    }
   },
   "outputs": [],
   "source": [
    "O_avg_exp = sqrt(2.)*(ZZ_avg_exp + XX_avg_exp)\n",
    "O_avg_exp"
   ]
  },
  {
   "cell_type": "markdown",
   "id": "8f92d5aa",
   "metadata": {
    "slideshow": {
     "slide_type": "-"
    }
   },
   "source": [
    "##### Resumo\n",
    "\n",
    "\\begin{align}\n",
    "& -2\\le \\langle O\\rangle_{dl} \\le 2,\\\\\n",
    "& \\langle O\\rangle_{mq} = -2\\sqrt{2}, \\\\\n",
    "& \\langle O\\rangle_{sim} \\approx -2.83,\\\\\n",
    "& \\langle O\\rangle_{exp} \\approx -2.56. \n",
    "\\end{align}"
   ]
  },
  {
   "cell_type": "markdown",
   "id": "4576fda9",
   "metadata": {
    "slideshow": {
     "slide_type": "slide"
    }
   },
   "source": [
    "### Efeito do emaranhamento\n",
    "\n",
    "Para os mesmos observáveis: $A_1=Z,\\ A_2=X,\\ B_1=(Z+X)/\\sqrt{2},\\ B_2=(Z-X)/\\sqrt{2}:$\n",
    "<table>\n",
    "    <td><img src='bell_entanglement.png' width='500'></td>\n",
    "    <td> Estado parcialmente emaranhado: $$|\\Psi\\rangle = \\cos(\\theta/2)|01\\rangle - \\sin(\\theta/2)|10\\rangle$$ <img src='bell_qcircuit_entanglement.png' width='450'></td>\n",
    "</table>"
   ]
  },
  {
   "cell_type": "markdown",
   "id": "efae5e80",
   "metadata": {
    "slideshow": {
     "slide_type": "slide"
    }
   },
   "source": [
    "### Teoria\n",
    "\n",
    "O Observável cujo valore médio queremos medir é\n",
    "$$O = A_1 B_1 + A_1 B_2 + A_2 B_1 - A_2 B_2 = \\sqrt{2}(Z\\otimes Z + X\\otimes X)$$\n",
    "\n",
    "Temos que\n",
    "\\begin{align}\n",
    " (Z\\otimes Z)|\\Psi\\rangle & = (Z\\otimes Z)\\big(\\cos(\\theta/2)|01\\rangle-\\sin(\\theta/2)|10\\rangle\\big) \\\\\n",
    "& = -\\cos(\\theta/2)|01\\rangle+\\sin(\\theta/2)|10\\rangle,\\\\\n",
    " (X\\otimes X)|\\Psi\\rangle & = (X\\otimes X)\\big(\\cos(\\theta/2)|01\\rangle-\\sin(\\theta/2)|10\\rangle\\big) \\\\\n",
    " & = \\cos(\\theta/2)|10\\rangle-\\sin(\\theta/2)|01\\rangle.\n",
    "\\end{align}"
   ]
  },
  {
   "cell_type": "markdown",
   "id": "70b5304e",
   "metadata": {
    "slideshow": {
     "slide_type": "slide"
    }
   },
   "source": [
    "Assim\n",
    "\\begin{align}\n",
    "\\langle O\\rangle_\\Psi & = \\langle\\Psi|O|\\Psi\\rangle = \\langle\\Psi|\\sqrt{2}(Z\\otimes Z + X\\otimes X)|\\Psi\\rangle \\\\\n",
    "& = \\sqrt{2}\\big(\\cos(\\theta/2)\\langle 01|-\\sin(\\theta/2)\\langle 10|\\big)\\\\\n",
    "&\\times\\big(-\\cos(\\theta/2)|01\\rangle+\\sin(\\theta/2)|10\\rangle+\\cos(\\theta/2)|10\\rangle-\\sin(\\theta/2)|01\\rangle\\big) \\\\\n",
    "& = -\\sqrt{2}\\big(\\cos^2(\\theta/2)+\\sin^2(\\theta/2) + 2\\sin(\\theta/2)\\cos(\\theta/2)\\big) \\\\\n",
    "& = -\\sqrt{2}(1+\\sin\\theta).\n",
    "\\end{align}"
   ]
  },
  {
   "cell_type": "code",
   "execution_count": null,
   "id": "40f486d5",
   "metadata": {
    "slideshow": {
     "slide_type": "slide"
    }
   },
   "outputs": [],
   "source": [
    "import numpy as np\n",
    "import math\n",
    "th_max = math.pi/2; dth = th_max/100; th = np.arange(0,th_max+dth,dth)\n",
    "Oteo = -math.sqrt(2)*(1+np.sin(th))\n",
    "Odl = -2*np.ones(len(th))\n",
    "from matplotlib import pyplot as plt\n",
    "plt.plot(th, Oteo, label = r'$\\langle O\\rangle_{\\Psi}^{teo}$')\n",
    "plt.plot(th, Odl, label = 'LHV limit')\n",
    "plt.xlabel(r'$\\theta$')\n",
    "plt.legend(); plt.show()"
   ]
  },
  {
   "cell_type": "markdown",
   "id": "4370583b",
   "metadata": {
    "slideshow": {
     "slide_type": "slide"
    }
   },
   "source": [
    "#### Preparação do estado \n",
    "$$|\\Psi\\rangle = \\cos(\\theta/2)|01\\rangle - \\sin(\\theta/2)|10\\rangle.$$\n",
    "\n",
    "Lembra que\n",
    "$$U(\\theta,\\phi,\\lambda) = \\begin{bmatrix} \\cos(\\theta/2) & -e^{i\\lambda}\\sin(\\theta/2) \\\\ e^{i\\phi}\\sin(\\theta/2) & e^{i(\\phi+\\lambda)}\\cos(\\theta/2) \\end{bmatrix}.$$\n",
    "Temos assim que\n",
    "$$U(\\theta,0,0)|0\\rangle = \\cos(\\theta/2)|0\\rangle+\\sin(\\theta/2)|1\\rangle.$$\n",
    "\n",
    "Usando um qubit auxiliar preparado no estado $|0\\rangle$, obteremos\n",
    "\\begin{align}\n",
    "C_{X}^{A\\rightarrow B}(U(\\theta,0,0)\\otimes I)|0\\rangle_A |0\\rangle_B & = \\cos(\\theta/2)C_{X}^{A\\rightarrow B}|0\\rangle_A |0\\rangle_B + \\sin(\\theta/2)C_{X}^{A\\rightarrow B}|1\\rangle_A |0\\rangle_B \\\\\n",
    "& = \\cos(\\theta/2)|00\\rangle + \\sin(\\theta/2)|11\\rangle.\n",
    "\\end{align}\n",
    "Finalmente\n",
    "$$(Z\\otimes X)C_{X}^{A\\rightarrow B}(U(\\theta,0,0)\\otimes I)|00\\rangle= |\\Psi\\rangle.$$"
   ]
  },
  {
   "cell_type": "code",
   "execution_count": null,
   "id": "3eda12bd",
   "metadata": {
    "slideshow": {
     "slide_type": "slide"
    }
   },
   "outputs": [],
   "source": [
    "import math\n",
    "dth = (math.pi/2)/10\n",
    "import numpy as np\n",
    "th = np.arange(0,math.pi/2+dth,dth)#; th"
   ]
  },
  {
   "cell_type": "code",
   "execution_count": null,
   "id": "175077fd",
   "metadata": {},
   "outputs": [],
   "source": [
    "# circuito quântico para preparação do estado Psi\n",
    "def qc_Psi(th):\n",
    "    qc = QuantumCircuit(2)\n",
    "    qc.u(th,0,0, 0)\n",
    "    qc.cx(0,1)\n",
    "    qc.z(0)\n",
    "    qc.x(1)\n",
    "    return qc\n",
    "import math\n",
    "th = math.pi/4\n",
    "qc_Psi_ = qc_Psi(th)\n",
    "qc_Psi_.draw('mpl')"
   ]
  },
  {
   "cell_type": "markdown",
   "id": "df741e9e",
   "metadata": {
    "slideshow": {
     "slide_type": "slide"
    }
   },
   "source": [
    "### Simulação"
   ]
  },
  {
   "cell_type": "code",
   "execution_count": null,
   "id": "83345dde",
   "metadata": {},
   "outputs": [],
   "source": [
    "# função para calcular as médias tipo <sigma_j\\otimes sigma_k>\n",
    "def ABavg(result, nshots):\n",
    "    avg = 0\n",
    "    if '00' in result:\n",
    "        avg += result['00']\n",
    "    if '01' in result:\n",
    "        avg -= result['01']\n",
    "    if '10' in result:\n",
    "        avg -= result['10']\n",
    "    if '11' in result:\n",
    "        avg += result['11']\n",
    "    return avg/nshots"
   ]
  },
  {
   "cell_type": "code",
   "execution_count": null,
   "id": "b8922688",
   "metadata": {
    "slideshow": {
     "slide_type": "slide"
    }
   },
   "outputs": [],
   "source": [
    "th_max = math.pi/2; dth = th_max/10; th = np.arange(0,th_max+dth,dth)\n",
    "Osim = np.zeros(len(th))\n",
    "from qiskit import Aer, execute\n",
    "simulator = Aer.get_backend('qasm_simulator')\n",
    "nshots = 2**13\n",
    "for j in range(0,len(th)):\n",
    "    # mede ZZ \n",
    "    qc = QuantumCircuit(2,2)\n",
    "    qc_Psi_ = qc_Psi(th[j])\n",
    "    qc.append(qc_Psi_, [0,1])\n",
    "    qc.measure([0,1],[0,1])\n",
    "    job = execute(qc, backend=simulator, shots=nshots)\n",
    "    result = job.result().get_counts()\n",
    "    ZZavg = ABavg(result, nshots)\n",
    "    # mede XX \n",
    "    qc = QuantumCircuit(2,2)\n",
    "    qc_Psi_ = qc_Psi(th[j])\n",
    "    qc.append(qc_Psi_, [0,1])\n",
    "    qc.h([0,1])\n",
    "    qc.measure([0,1],[0,1])\n",
    "    job = execute(qc, backend=simulator, shots=nshots)\n",
    "    result = job.result().get_counts()\n",
    "    XXavg = ABavg(result, nshots)\n",
    "    # média de O\n",
    "    Osim[j] = math.sqrt(2)*(ZZavg + XXavg)"
   ]
  },
  {
   "cell_type": "code",
   "execution_count": null,
   "id": "47e6884e",
   "metadata": {
    "scrolled": true,
    "slideshow": {
     "slide_type": "slide"
    }
   },
   "outputs": [],
   "source": [
    "import numpy as np; import math\n",
    "th_max = math.pi/2\n",
    "dtht = th_max/100; tht = np.arange(0,th_max+dtht,dtht)\n",
    "Oteo = -math.sqrt(2)*(1+np.sin(tht)); Odl = -2*np.ones(len(tht))\n",
    "dth = th_max/10; th = np.arange(0,th_max+dth,dth)\n",
    "from matplotlib import pyplot as plt\n",
    "plt.plot(tht, Oteo, label = r'$\\langle O\\rangle_{\\Psi}^{teo}$')\n",
    "plt.plot(tht, Odl, label = 'LHV limit')\n",
    "plt.plot(th, Osim, '*', label = r'$\\langle O\\rangle_{\\Psi}^{sim}$')\n",
    "plt.xlabel(r'$\\theta$')\n",
    "plt.legend(); plt.show()"
   ]
  },
  {
   "cell_type": "markdown",
   "id": "f75c7d23",
   "metadata": {
    "slideshow": {
     "slide_type": "slide"
    }
   },
   "source": [
    "### Experimento"
   ]
  },
  {
   "cell_type": "code",
   "execution_count": null,
   "id": "b930f6a8",
   "metadata": {},
   "outputs": [],
   "source": [
    "import qiskit\n",
    "qiskit.IBMQ.save_account('6620333a7d8ee1bd08b2e10a1c5d69c6f7a61620c994332e2d2db36b6795af83c1058fe2e8183108aa23f67a9e897273be99427dd668cceacccd69b01f599053', \n",
    "                  overwrite = True)\n",
    "qiskit.IBMQ.load_account()\n",
    "provider = qiskit.IBMQ.get_provider(hub='ibm-q', group='open', project='main')"
   ]
  },
  {
   "cell_type": "code",
   "execution_count": null,
   "id": "aff24cd0",
   "metadata": {
    "slideshow": {
     "slide_type": "slide"
    }
   },
   "outputs": [],
   "source": [
    "th_max = math.pi/2; dth = th_max/10; th = np.arange(0,th_max+dth,dth)\n",
    "device = provider.get_backend('ibm_nairobi')\n",
    "nshots = 2**13\n",
    "jobs_ids_ZZ = []; jobs_ids_XX = []\n",
    "for j in range(0,len(th)):\n",
    "    # mede ZZ \n",
    "    qc = QuantumCircuit(2,2); qc_Psi_ = qc_Psi(th[j]); qc.append(qc_Psi_, [0,1]); qc.measure([0,1],[0,1])\n",
    "    job = execute(qc, backend=device, shots=nshots)\n",
    "    print('ZZ',job.job_id())\n",
    "    jobs_ids_ZZ.append(job.job_id())\n",
    "    # mede XX \n",
    "    qc = QuantumCircuit(2,2); qc_Psi_ = qc_Psi(th[j]); qc.append(qc_Psi_, [0,1]); qc.h([0,1]); qc.measure([0,1],[0,1])\n",
    "    job = execute(qc, backend=device, shots=nshots)\n",
    "    print('XX',job.job_id())\n",
    "    jobs_ids_XX.append(job.job_id())\n",
    "f = open(\"jobs_ids_ZZ.txt\", \"w\"); f.write(str(jobs_ids_ZZ)); f.close()\n",
    "f = open(\"jobs_ids_XX.txt\", \"w\"); f.write(str(jobs_ids_XX)); f.close()"
   ]
  },
  {
   "cell_type": "code",
   "execution_count": null,
   "id": "fc5f95c5",
   "metadata": {
    "slideshow": {
     "slide_type": "slide"
    }
   },
   "outputs": [],
   "source": [
    "f = open(\"jobs_ids_ZZ.txt\",\"r\")\n",
    "list_ids_ZZ = f.read().replace(\"'\",\"\").replace(\" \",\"\").replace(\"[\",\"\").replace(\"]\",\"\").split(\",\")\n",
    "f.close()\n",
    "f = open(\"jobs_ids_XX.txt\",\"r\")\n",
    "list_ids_XX = f.read().replace(\"'\",\"\").replace(\" \",\"\").replace(\"[\",\"\").replace(\"]\",\"\").split(\",\")\n",
    "f.close()\n",
    "th_max = math.pi/2; dth = th_max/10; th = np.arange(0,th_max+dth,dth)\n",
    "Oexp = np.zeros(len(th))\n",
    "for j in range(0,len(th)):\n",
    "    # média de ZZ\n",
    "    job = device.retrieve_job(list_ids_ZZ[j])\n",
    "    result = job.result().get_counts()\n",
    "    ZZavg = ABavg(result, nshots)\n",
    "    # média de XX\n",
    "    job = device.retrieve_job(list_ids_XX[j])\n",
    "    result = job.result().get_counts()\n",
    "    XXavg = ABavg(result, nshots)\n",
    "    # média de O\n",
    "    Oexp[j] = math.sqrt(2)*(ZZavg + XXavg)"
   ]
  },
  {
   "cell_type": "code",
   "execution_count": null,
   "id": "b5ab8458",
   "metadata": {
    "slideshow": {
     "slide_type": "slide"
    }
   },
   "outputs": [],
   "source": [
    "import numpy as np; import math\n",
    "th_max = math.pi/2\n",
    "dtht = th_max/100; tht = np.arange(0,th_max+dtht,dtht)\n",
    "Oteo = -math.sqrt(2)*(1+np.sin(tht)); Odl = -2*np.ones(len(tht))\n",
    "dth = th_max/10; th = np.arange(0,th_max+dth,dth)\n",
    "from matplotlib import pyplot as plt\n",
    "plt.plot(tht, Oteo, label = r'$\\langle O\\rangle_{\\Psi}^{teo}$')\n",
    "plt.plot(tht, Odl, label = 'LHV limit')\n",
    "plt.plot(th, Osim, '*', label = r'$\\langle O\\rangle_{\\Psi}^{sim}$')\n",
    "plt.plot(th, Oexp, '*', label = r'$\\langle O\\rangle_{\\Psi}^{exp}$')\n",
    "plt.xlabel(r'$\\theta$')\n",
    "plt.legend(); plt.show()"
   ]
  },
  {
   "cell_type": "markdown",
   "id": "7f76b68e",
   "metadata": {
    "slideshow": {
     "slide_type": "slide"
    }
   },
   "source": [
    "### Efeito da incompatibilidade local\n",
    "<table>\n",
    "    <td>$$\\text{Estado: }|\\Psi_-\\rangle,$$ $$\\text{Observáveis: }A_1=Z,\\ A_2=X,$$ $$B_1=\\cos\\theta Z+\\sin\\theta X,\\ B_2=(Z-X)/\\sqrt{2}$$</td>\n",
    "    <td><img src='bell_incompatibility.png' width='600'></td>\n",
    "</table>"
   ]
  },
  {
   "cell_type": "markdown",
   "id": "b419c283",
   "metadata": {
    "slideshow": {
     "slide_type": "slide"
    }
   },
   "source": [
    "### Medida dos observáveis\n",
    "\n",
    "Lembrando, $\\sigma_n = \\sin\\theta\\cos\\phi X + \\sin\\theta\\sin\\phi Y + \\cos\\theta Z$. \n",
    "\n",
    "Para medir \n",
    "$$B_1=(Z+X)/\\sqrt{2} = \\sin(\\pi/4)\\cos(0) X + \\sin(\\pi/4)\\sin(0) Y + \\cos(\\pi/4) Z $$\n",
    "aplica\n",
    "$$U(\\theta=\\pi/4,\\phi=0,\\pi/\\phi=\\pi) = U(\\pi/4,0,\\pi)$$\n",
    "antes de medir $Z$.\n",
    "\n",
    "Para medir \n",
    "$$B_1=(Z-X)/\\sqrt{2} = \\sin(-\\pi/4)\\cos(0) X + \\sin(-\\pi/4)\\sin(0) Y + \\cos(-\\pi/4) Z $$\n",
    "aplica\n",
    "$$U(-\\pi/4,0,\\pi)$$\n",
    "antes de medir $Z$."
   ]
  },
  {
   "cell_type": "code",
   "execution_count": null,
   "id": "25489038",
   "metadata": {},
   "outputs": [],
   "source": []
  },
  {
   "cell_type": "markdown",
   "id": "a55ba031",
   "metadata": {
    "slideshow": {
     "slide_type": "slide"
    }
   },
   "source": [
    "## Comunicação superluminal?\n",
    "Alice e Bob querem trocar bits de informação e compartilham um par emaranhado $|\\Psi_{-}\\rangle_{AB}$. Alice e Bob combinam:\n",
    "\\begin{align}\n",
    "& \\text{ Alice mede } Z^{A} \\rightarrow \\text{ bit } 0, \\\\\n",
    "& \\text{ Alice mede } X^{A} \\rightarrow \\text{ bit } 1.\n",
    "\\end{align}\n",
    "Bob faz várias cópias do estado do seu qubit do par e mede $Z^{B}$ em cada cópia:\n",
    "\\begin{equation}\n",
    "|\\psi\\rangle_{B} \\rightarrow \\text{ xerox quântico } \\rightarrow  |\\psi\\rangle_{B}\\otimes|\\psi\\rangle_{B}\\otimes\\cdots \\rightarrow\\text{ mede }Z^{B}.\n",
    "\\end{equation}\n",
    "Se Alice mediu $\\sigma_{z}^{A}$, a distribuição de probabilidades obtida nas medidas de Bob, \n",
    "$$\\{Pr(|0\\rangle_{B}),Pr(|1\\rangle_{B})\\}=\\{1,0\\} \\text{ ou }\\{Pr(|0\\rangle_{B}),Pr(|1\\rangle_{B})\\}=\\{0,1\\},$$\n",
    "pois\n",
    "\\begin{align}\n",
    "\\text{Alice obteve }|0\\rangle_{A} \\Rightarrow \\text{ estado colapsa pra } |0\\rangle\\otimes|1\\rangle \\Rightarrow \\{0,1\\}, \\\\\n",
    "\\text{Alice obteve }|1\\rangle_{A} \\Rightarrow \\text{ estado colapsa pra } |1\\rangle\\otimes|0\\rangle\\Rightarrow \\{1,0\\}.\n",
    "\\end{align}"
   ]
  },
  {
   "cell_type": "markdown",
   "id": "f56b814b",
   "metadata": {
    "slideshow": {
     "slide_type": "slide"
    }
   },
   "source": [
    "Se Alice, no entanto, mediu $X^A$, Bob obterá, aproximadamente, a DP \n",
    "$$\\{Pr(|0\\rangle_{B}),Pr(|1\\rangle_{B})\\}=\\{1/2,1/2\\}$$\n",
    "para medidas de $Z^B$ pois\n",
    "\\begin{align}\n",
    "\\text{Alice obteve }|+\\rangle_{A} \\Rightarrow \\text{ estado colapsa pra } |+\\rangle\\otimes|-\\rangle \\Rightarrow \\{1/2,1/2\\}, \\\\\n",
    "\\text{Alice obteve }|-\\rangle_{A} \\Rightarrow \\text{ estado colapsa pra } |-\\rangle\\otimes|+\\rangle\\Rightarrow \\{1/2,1/2\\}.\n",
    "\\end{align}\n",
    "\n",
    "Bob diferencia as DPs e sabe qual bit Alice quiz enviar pra ele. \n",
    "\n",
    "Se a distância entre eles for adequada, eles conseguem trocar bits de informação mais rápido do que a luz demoraria para ir da posição de Alice até Bob. Ou seja, eles fazem __comunicação superluminal__, voltam no tempo, e ....\n",
    "\n",
    "Qual é o __problema__ com essa proposta?<br>\n",
    "Não existe Xerox quântico!"
   ]
  },
  {
   "cell_type": "markdown",
   "id": "0119fc25",
   "metadata": {
    "slideshow": {
     "slide_type": "slide"
    }
   },
   "source": [
    "## Teorema da não clonagem em MQ\n",
    "Consideremos que $U$ pode copiar dois estados desconhecidos quaisquer $|\\psi\\rangle$ e $|\\phi\\rangle$, i.e.,\n",
    "\\begin{align}\n",
    "U|\\psi\\rangle_{s}\\otimes|\\alpha\\rangle_{a} & = |\\psi\\rangle_{s}\\otimes|\\psi\\rangle_{a}, \\\\\n",
    "U|\\phi\\rangle_{s}\\otimes|\\alpha\\rangle_{a} & = |\\phi\\rangle_{s}\\otimes|\\phi\\rangle_{a},\n",
    "\\end{align}\n",
    "com $|\\alpha\\rangle$ sendo o estado inicial do sistema auxiliar. Segue dessas relações que\n",
    "\\begin{align}\n",
    "\\langle\\psi|\\otimes\\langle\\alpha|U^{\\dagger}U|\\phi\\rangle\\otimes|\\alpha\\rangle & = (\\langle\\psi|\\otimes\\langle\\psi|)(|\\phi\\rangle\\otimes|\\phi\\rangle) \\\\\n",
    "\\langle\\psi|\\phi\\rangle\\otimes\\langle\\alpha|\\alpha\\rangle & = \\langle\\psi|\\phi\\rangle\\otimes\\langle\\psi|\\phi\\rangle \\\\\n",
    "\\langle\\psi|\\phi\\rangle & = \\langle\\psi|\\phi\\rangle^{2}.\n",
    "\\end{align}\n",
    "Ou seja, $\\langle\\psi|\\phi\\rangle$ é igual a $0$ ou $1$. Ou seja, só poderá existir uma máquina de copiar estados desconhecidos $U$ se os estados forem iguais ou ortogonais (que é o caso da informação clássica)."
   ]
  },
  {
   "cell_type": "markdown",
   "id": "837d358d",
   "metadata": {
    "slideshow": {
     "slide_type": "slide"
    }
   },
   "source": [
    "Uma transformação unitária que copia alguns estados é a chamada \"não controlada\":\n",
    "\\begin{equation}\n",
    "CNOT_{s\\rightarrow a} = |0\\rangle_{s}\\langle 0|\\otimes I_{a}+|1\\rangle_{s}\\langle 1|\\otimes X^{a}.\n",
    "\\end{equation}\n",
    "Pode-se verificar que\n",
    "\\begin{align}\n",
    "CNOT_{s\\rightarrow a}|0\\rangle_{s}\\otimes|0\\rangle_{a} & = |0\\rangle_{s}\\langle 0|0\\rangle_{s}\\otimes I_{a}|0\\rangle_{a} + |1\\rangle_{s}\\langle 1|0\\rangle_{s}\\otimes X^{a}|0\\rangle_{a} \\\\\n",
    "& = |0\\rangle_{s}\\otimes|0\\rangle_{a}, \\\\\n",
    "CNOT_{s\\rightarrow a}|1\\rangle_{s}\\otimes|0\\rangle_{a} &= |1\\rangle_{s}\\otimes|1\\rangle_{a}.\n",
    "\\end{align}\n",
    "No entanto, para $c_0,c_1\\in\\mathbb{C}$ e\n",
    "\\begin{equation}\n",
    "|\\psi\\rangle_{s}=c_{0}|0\\rangle_{s}+c_{1}|1\\rangle_{s},\n",
    "\\end{equation}\n",
    "teremos \n",
    "\\begin{align}\n",
    "CNOT_{s\\rightarrow a}|\\psi\\rangle_{s}\\otimes|0\\rangle_{a} & = c_{0}|0\\rangle_{s}\\otimes|0\\rangle_{a}+c_{1}|1\\rangle_{s}\\otimes|1\\rangle_{a} \\\\\n",
    "& \\ne|\\psi\\rangle_{s}\\otimes|\\psi\\rangle_{a}\n",
    "\\end{align}\n",
    "em geral."
   ]
  },
  {
   "cell_type": "code",
   "execution_count": null,
   "id": "50c5651a",
   "metadata": {
    "slideshow": {
     "slide_type": "skip"
    }
   },
   "outputs": [],
   "source": []
  }
 ],
 "metadata": {
  "celltoolbar": "Slideshow",
  "kernelspec": {
   "display_name": "Python 3 (ipykernel)",
   "language": "python",
   "name": "python3"
  },
  "language_info": {
   "codemirror_mode": {
    "name": "ipython",
    "version": 3
   },
   "file_extension": ".py",
   "mimetype": "text/x-python",
   "name": "python",
   "nbconvert_exporter": "python",
   "pygments_lexer": "ipython3",
   "version": "3.9.13"
  },
  "rise": {
   "theme": "sky",
   "transition": "zoom"
  }
 },
 "nbformat": 4,
 "nbformat_minor": 5
}
