{
 "cells": [
  {
   "cell_type": "markdown",
   "id": "d0855986",
   "metadata": {
    "slideshow": {
     "slide_type": "slide"
    }
   },
   "source": [
    "### Computação Quântica com Qiskit\n",
    "\n",
    "##### Jonas Maziero\n",
    "\n",
    "<table>\n",
    "<td> Universidade Federal de Santa Maria <br>\n",
    "Centro de Ciências Naturais e Exatas <br>\n",
    "Departamento de Física <br>\n",
    "https://sites.google.com/site/jonasmaziero <br>\n",
    "jonas.maziero@ufsm.br \n",
    "    </td>\n",
    "    <td><img src='ufsm.jpg' width='250'></td>\n",
    "    <td><img src='inpe_ufsm.jpg' width='550'></td>\n",
    "</table>\n",
    "<table>\n",
    "    <td>Suporte Financeiro:</td>\n",
    "    <td><img src='cnpq.png' width='200'></td>\n",
    "    <td><img src='inct-iq.png' width='330'></td>\n",
    "    <td><img src='capes.png' width='100'></td>\n",
    "    <td><img src='fapergs.png' width='150'></td>\n",
    "    <td><img src='ufsm.jpg' width='75'></td>\n",
    "    </table>"
   ]
  },
  {
   "cell_type": "markdown",
   "id": "58518247",
   "metadata": {
    "slideshow": {
     "slide_type": "slide"
    }
   },
   "source": [
    "## Aula 4\n",
    "\n",
    "- Medida na base de Bell\n",
    "- Teletransporte quântico\n",
    "- Codificação superdensa"
   ]
  },
  {
   "cell_type": "markdown",
   "id": "a9676283",
   "metadata": {
    "slideshow": {
     "slide_type": "slide"
    }
   },
   "source": [
    "# Medida na base de Bell\n",
    "\n",
    "Base computacional: $$\\{|jk\\rangle\\}_{j,k=0}^{1}= \\{|00\\rangle,|01\\rangle,|10\\rangle,|11\\rangle\\}.$$\n",
    "\n",
    "Base de Bell:\n",
    "\\begin{align}\n",
    "& |\\Phi_+\\rangle = (|00\\rangle + |11\\rangle)/\\sqrt{2} = U|00\\rangle = |B_{00}\\rangle, \\\\\n",
    "& |\\Phi_-\\rangle = (|00\\rangle - |11\\rangle)/\\sqrt{2} = U|10\\rangle = |B_{10}\\rangle, \\\\\n",
    "& |\\Psi_+\\rangle = (|01\\rangle + |10\\rangle)/\\sqrt{2} = U|01\\rangle = |B_{01}\\rangle, \\\\\n",
    "& |\\Psi_-\\rangle = (|01\\rangle - |10\\rangle)/\\sqrt{2} = U|11\\rangle = |B_{11}\\rangle.\n",
    "\\end{align}\n",
    "Relação entre as bases:\n",
    "$$|B_{jk}\\rangle = U|jk\\rangle,\\ \\text{com } j,k=0,1 \\text{ e } U = C_X^{A\\rightarrow B}(H\\otimes I).$$ "
   ]
  },
  {
   "cell_type": "markdown",
   "id": "57595b72",
   "metadata": {
    "slideshow": {
     "slide_type": "slide"
    }
   },
   "source": [
    "Se queremos fazer medidas na base de Bell $\\{|B_{jk}\\rangle\\}$ para a preparação $|\\Psi\\rangle$, obteremos a mesma estatística se fizermos medidas na base computacional $\\{|jk\\rangle\\}_{j,k=0}^1$ para a preparação\n",
    "$$|\\Psi'\\rangle = U^\\dagger|\\Psi\\rangle = (H\\otimes I)C_X^{A\\rightarrow B}|\\Psi\\rangle.$$"
   ]
  },
  {
   "cell_type": "code",
   "execution_count": 26,
   "id": "79ad71da",
   "metadata": {},
   "outputs": [
    {
     "data": {
      "image/png": "[encoded data removed]",
      "text/plain": [
       "<Figure size 538.128x284.278 with 1 Axes>"
      ]
     },
     "execution_count": 26,
     "metadata": {},
     "output_type": "execute_result"
    }
   ],
   "source": [
    "from qiskit import QuantumCircuit\n",
    "qc = QuantumCircuit(2,2)\n",
    "qc.cx(0,1)\n",
    "qc.h(0)\n",
    "qc.barrier()\n",
    "qc.measure([0,1],[0,1])\n",
    "qc.draw('mpl')"
   ]
  },
  {
   "cell_type": "markdown",
   "id": "e5853218",
   "metadata": {
    "slideshow": {
     "slide_type": "slide"
    }
   },
   "source": [
    "# Teletransporte quântico"
   ]
  },
  {
   "cell_type": "markdown",
   "id": "33af8f73",
   "metadata": {
    "slideshow": {
     "slide_type": "slide"
    }
   },
   "source": [
    "## Protocolo\n",
    "\n",
    "<table>\n",
    "    <td><img src='teleportation.png' width='600'></td>\n",
    "    <td>\\begin{align}\n",
    "        & |00\\rangle = (|\\Phi_{+}\\rangle + |\\Phi_{-}\\rangle)/\\sqrt{2}, \\\\\n",
    "        & |11\\rangle = (|\\Phi_{+}\\rangle - |\\Phi_{-}\\rangle)/\\sqrt{2}, \\\\\n",
    "        & |01\\rangle = (|\\Psi_{+}\\rangle + |\\Psi_{-}\\rangle)/\\sqrt{2}, \\\\\n",
    "        & |10\\rangle = (|\\Psi_{+}\\rangle - |\\Psi_{-}\\rangle)/\\sqrt{2}.\n",
    "\\end{align}</td>\n",
    "    </table>\n",
    "\\begin{align}\n",
    "|\\Psi\\rangle_{AA'B} & = |\\psi\\rangle_A |\\Phi_+\\rangle_{A'B} =(c_0|0\\rangle_A+c_1|1\\rangle_A)(|00\\rangle_{A'B}+|11\\rangle_{A'B})/\\sqrt{2} \\\\\n",
    "& = \\frac{1}{2}\\Big(|\\Phi_{+}\\rangle_{AA'}\\big(c_{0}|0\\rangle_{B}+c_{1}|1\\rangle_{B}\\big) + |\\Phi_{-}\\rangle_{AA'}\\big(c_{0}|0\\rangle_{B}-c_{1}|1\\rangle_{B}\\big) \\\\\n",
    "& \\hspace{1.3cm}  + |\\Psi_{+}\\rangle_{AA'}\\big(c_{0}|1\\rangle_{B}+c_{1}|0\\rangle_{B}\\big) + |\\Psi_{-}\\rangle_{AA'}\\big(c_{0}|1\\rangle_{B}-c_{1}|0\\rangle_{B}\\big)\\Big)\n",
    "\\end{align}"
   ]
  },
  {
   "cell_type": "markdown",
   "id": "ecb90c47",
   "metadata": {
    "slideshow": {
     "slide_type": "slide"
    }
   },
   "source": [
    "\\begin{align}\n",
    "& \\text{Alice obtém } |\\Phi_+\\rangle \\ \\xrightarrow{00}\\ \\text{Bob aplica } I\\ \\therefore\\ I(c_{0}|0\\rangle_{B}+c_{1}|1\\rangle_{B}) = |\\psi\\rangle_B, \\\\\n",
    "& \\text{Alice obtém } |\\Phi_-\\rangle \\ \\xrightarrow{10}\\ \\text{Bob aplica } Z\\ \\therefore\\ Z(c_{0}|0\\rangle_{B}-c_{1}|1\\rangle_{B}) = |\\psi\\rangle_B, \\\\\n",
    "& \\text{Alice obtém } |\\Psi_+\\rangle \\ \\xrightarrow{01}\\ \\text{Bob aplica } X\\ \\therefore\\ X(c_{0}|1\\rangle_{B}+c_{1}|0\\rangle_{B}) = |\\psi\\rangle_B, \\\\\n",
    "& \\text{Alice obtém } |\\Psi_-\\rangle  \\ \\xrightarrow{11}\\ \\text{Bob aplica } ZX\\ \\therefore\\ ZX(c_{0}|1\\rangle_{B}-c_{1}|0\\rangle_{B}) = |\\psi\\rangle_B.\n",
    "\\end{align}\n",
    "\n",
    "<table>\n",
    "    <td><img src='teleportacao_circuito.png' width='700'></td>\n",
    "    </table>"
   ]
  },
  {
   "cell_type": "markdown",
   "id": "a83093c9",
   "metadata": {
    "slideshow": {
     "slide_type": "slide"
    }
   },
   "source": [
    "__Problema__: Considere o protocolo de teletransporte quântico. Rafaça as contas determinando as respectivas transformações unitárias que Bob precisa aplicar para obter o estado $|\\psi\\rangle_B$ quando o estado emaranhado compartilhado é $|\\Psi_-\\rangle_{A'B}$."
   ]
  },
  {
   "cell_type": "markdown",
   "id": "fcc03d4f",
   "metadata": {
    "slideshow": {
     "slide_type": "slide"
    }
   },
   "source": [
    "Preparação do estado a ser teletransportado,\n",
    "$$|\\psi\\rangle = \\cos(\\theta/2)|0\\rangle + e^{i\\phi}\\sin(\\theta/2)|1\\rangle$$\n",
    "usando a porta geral de um qubit:\n",
    "$$U(\\theta,\\phi,\\lambda) = \\begin{bmatrix} \\cos(\\theta/2) & -e^{i\\lambda}\\sin(\\theta/2) \\\\ e^{i\\phi}\\sin(\\theta/2) & e^{i(\\phi+\\lambda)}\\cos(\\theta/2) \\end{bmatrix}.$$"
   ]
  },
  {
   "cell_type": "code",
   "execution_count": 51,
   "id": "f138d7e9",
   "metadata": {
    "slideshow": {
     "slide_type": "-"
    }
   },
   "outputs": [
    {
     "data": {
      "image/png": "[encoded data removed]",
      "text/plain": [
       "<Figure size 269.064x117.056 with 1 Axes>"
      ]
     },
     "execution_count": 51,
     "metadata": {},
     "output_type": "execute_result"
    }
   ],
   "source": [
    "def qc_psi(th,ph): # prepara o estado a ser teletransportado\n",
    "    from qiskit import QuantumCircuit\n",
    "    qc = QuantumCircuit(1, name=r'$|\\psi\\rangle$')\n",
    "    lb = 0\n",
    "    qc.u(th,ph,lb, 0)\n",
    "    return qc\n",
    "qc_psi_ = qc_psi(0.1,0.2); qc_psi_.draw('mpl')"
   ]
  },
  {
   "cell_type": "code",
   "execution_count": 52,
   "id": "adb47f1f",
   "metadata": {
    "scrolled": false,
    "slideshow": {
     "slide_type": "slide"
    }
   },
   "outputs": [
    {
     "data": {
      "image/png": "[encoded data removed]",
      "text/plain": [
       "<Figure size 1040x367.889 with 1 Axes>"
      ]
     },
     "execution_count": 52,
     "metadata": {},
     "output_type": "execute_result"
    }
   ],
   "source": [
    "from qiskit import *\n",
    "def qc_teleport(th,ph):\n",
    "    qc = QuantumCircuit(3,2, name='tel')\n",
    "    qc_psi_ = qc_psi(th,ph); qc.append(qc_psi_, [0]); qc.barrier()\n",
    "    qc.h(2); qc.cx(2,1); qc.barrier()\n",
    "    qc.cx(0,1); qc.h(0); qc.measure([0,1],[0,1]); qc.barrier()\n",
    "    qc.x(2).c_if(1, 1); qc.z(2).c_if(0, 1) # oprações condicionadas em info clássica\n",
    "    return qc\n",
    "qc_teleport_ = qc_teleport(0,0); qc_teleport_.draw('mpl')"
   ]
  },
  {
   "cell_type": "markdown",
   "id": "6c02e164",
   "metadata": {
    "slideshow": {
     "slide_type": "slide"
    }
   },
   "source": [
    "Teste para um estado particular: $|\\psi\\rangle = |+\\rangle = (|0\\rangle+|1\\rangle)/\\sqrt{2}$."
   ]
  },
  {
   "cell_type": "code",
   "execution_count": 54,
   "id": "71df7fcd",
   "metadata": {
    "slideshow": {
     "slide_type": "-"
    }
   },
   "outputs": [
    {
     "name": "stdout",
     "output_type": "stream",
     "text": [
      "rho_sim = [[0.5 0.5]\n",
      " [0.5 0.5]]\n",
      "rho_teo =  [[0.4993897 +0.j         0.49995618+0.00659122j]\n",
      " [0.49995618-0.00659122j 0.5006103 +0.j        ]]\n",
      "F =  0.9999561814457993\n"
     ]
    }
   ],
   "source": [
    "import qiskit; import math; import numpy as np\n",
    "from qiskit import Aer, QuantumCircuit, execute\n",
    "from qiskit.quantum_info import state_fidelity\n",
    "from qiskit.ignis.verification.tomography import state_tomography_circuits, StateTomographyFitter\n",
    "simulator = Aer.get_backend('qasm_simulator')\n",
    "nshots = 2**13\n",
    "qc = QuantumCircuit(3)\n",
    "qc_teleport_ = qc_teleport(math.pi/2,0); qc.append(qc_teleport_, [0,1,2])\n",
    "qstc = state_tomography_circuits(qc_teleport_, [2])\n",
    "job = qiskit.execute(qstc, backend = simulator, shots = nshots)\n",
    "qstf = StateTomographyFitter(job.result(), qstc)\n",
    "rho_sim = qstf.fit(method='lstsq')\n",
    "rho_teo = np.array([[1/2,1/2],[1/2,1/2]])\n",
    "F = state_fidelity(rho_sim, rho_teo)\n",
    "print('rho_sim =',rho_teo); print('rho_teo = ',rho_sim); print('F = ', F)"
   ]
  },
  {
   "cell_type": "code",
   "execution_count": null,
   "id": "711c9fd0",
   "metadata": {
    "slideshow": {
     "slide_type": "slide"
    }
   },
   "outputs": [],
   "source": [
    "device = provider.get_backend('ibm_nairobi')\n",
    "qc = QuantumCircuit(3)\n",
    "qc_teleport_ = qc_teleport(math.pi/2,0); qc.append(qc_teleport_, [0,1,2])\n",
    "qstc = state_tomography_circuits(qc_teleport_, [2])\n",
    "job = execute(qstc, backend = device, shots = nshots)\n",
    "jobid = job.job_id(); print(jobid)\n",
    "qstf = StateTomographyFitter(job.result(), qstc)\n",
    "rho_sim = qstf.fit(method='lstsq')\n",
    "rho_teo = np.array([[1/2,1/2],[1/2,1/2]])\n",
    "F = state_fidelity(rho_teo, rho_sim)\n",
    "print('rho_sim =',rho_sim)\n",
    "print('rho_teo = ',rho_teo)\n",
    "print('F = ', F)"
   ]
  },
  {
   "cell_type": "code",
   "execution_count": null,
   "id": "d328ba67",
   "metadata": {},
   "outputs": [],
   "source": []
  },
  {
   "cell_type": "code",
   "execution_count": null,
   "id": "ac040c5c",
   "metadata": {},
   "outputs": [],
   "source": []
  },
  {
   "cell_type": "code",
   "execution_count": null,
   "id": "f8ad4508",
   "metadata": {},
   "outputs": [],
   "source": [
    "import qiskit\n",
    "qiskit.IBMQ.save_account('5a0140fc106f9f8ae43104d5751baf65c726195f8b45b1f42e161f0182b5fe79ca6dbb1405159301e1e44d40d680223ea572d9b8737205bfa6f90485f1f88123', \n",
    "                  overwrite = True)\n",
    "qiskit.IBMQ.load_account()\n",
    "provider = qiskit.IBMQ.get_provider(hub='ibm-q', group='open', project='main')"
   ]
  },
  {
   "cell_type": "code",
   "execution_count": null,
   "id": "5d45a8b8",
   "metadata": {},
   "outputs": [],
   "source": []
  },
  {
   "cell_type": "code",
   "execution_count": null,
   "id": "50c5651a",
   "metadata": {
    "slideshow": {
     "slide_type": "skip"
    }
   },
   "outputs": [],
   "source": []
  }
 ],
 "metadata": {
  "celltoolbar": "Slideshow",
  "kernelspec": {
   "display_name": "Python 3 (ipykernel)",
   "language": "python",
   "name": "python3"
  },
  "language_info": {
   "codemirror_mode": {
    "name": "ipython",
    "version": 3
   },
   "file_extension": ".py",
   "mimetype": "text/x-python",
   "name": "python",
   "nbconvert_exporter": "python",
   "pygments_lexer": "ipython3",
   "version": "3.9.13"
  },
  "rise": {
   "theme": "sky",
   "transition": "zoom"
  }
 },
 "nbformat": 4,
 "nbformat_minor": 5
}
