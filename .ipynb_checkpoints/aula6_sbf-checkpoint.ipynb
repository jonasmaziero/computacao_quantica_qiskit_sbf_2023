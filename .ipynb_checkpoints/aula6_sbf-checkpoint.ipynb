{
 "cells": [
  {
   "cell_type": "markdown",
   "id": "e6344af9",
   "metadata": {
    "slideshow": {
     "slide_type": "slide"
    }
   },
   "source": [
    "### Computação Quântica com Qiskit\n",
    "\n",
    "##### Jonas Maziero\n",
    "\n",
    "<table>\n",
    "<td> Universidade Federal de Santa Maria <br>\n",
    "Centro de Ciências Naturais e Exatas <br>\n",
    "Departamento de Física <br>\n",
    "https://sites.google.com/site/jonasmaziero <br>\n",
    "jonas.maziero@ufsm.br \n",
    "    </td>\n",
    "    <td><img src='ufsm.jpg' width='250'></td>\n",
    "    <td><img src='inpe_ufsm.jpg' width='550'></td>\n",
    "</table>\n",
    "<table>\n",
    "    <td>Suporte Financeiro:</td>\n",
    "    <td><img src='cnpq.png' width='200'></td>\n",
    "    <td><img src='inct-iq.png' width='330'></td>\n",
    "    <td><img src='capes.png' width='100'></td>\n",
    "    <td><img src='fapergs.png' width='150'></td>\n",
    "    <td><img src='ufsm.jpg' width='75'></td>\n",
    "    </table>"
   ]
  },
  {
   "cell_type": "markdown",
   "id": "f6890d85",
   "metadata": {
    "slideshow": {
     "slide_type": "slide"
    }
   },
   "source": [
    "# Aula 5\n",
    "\n",
    "- Complementaridade quântica;\n",
    "- Interferômetro de Mach-Zehnder;\n",
    "- Apagador quântico;\n",
    "- Teste de Elitzur-Vaidman para bombas."
   ]
  },
  {
   "cell_type": "markdown",
   "id": "6ad8136b",
   "metadata": {
    "slideshow": {
     "slide_type": "slide"
    }
   },
   "source": [
    "# Complementaridade quântica"
   ]
  },
  {
   "cell_type": "markdown",
   "id": "2ddc065b",
   "metadata": {
    "slideshow": {
     "slide_type": "slide"
    }
   },
   "source": [
    "### Experimento da dupla fenda de Young\n",
    "<table>\n",
    "    <td><img src='young.jpg' width='150'></td>\n",
    "<td><img src='young_.png' width='250'></td>\n",
    "    <td><img src='feyman.jpg' width='130'> Feynman</td>\n",
    "</table>\n",
    "<table>\n",
    "    <td><img src='fig_2slits_wave.png' width='650'></td>\n",
    "    <td><img src='fig_2slits_particle.png' width='650'></td>\n",
    "    </table>"
   ]
  },
  {
   "cell_type": "markdown",
   "id": "45eba1ca",
   "metadata": {
    "slideshow": {
     "slide_type": "slide"
    }
   },
   "source": [
    "## Princípio de complementaridade de Bohr\n",
    "\n",
    "<table>\n",
    "    <td><img src='bohr.jpg' width='700'> Bohr</td>\n",
    "    <td>\"The very nature of quantum theory thus forces us to regard the space-time coordination and the claim of causality, the union of which characterizes the classical theories, as complementary but exclusive features of the description\"</td>\n",
    "<td>\"we are presented with a choice of either tracing the path of a particle or observing the interference effect which allows us to escape from the paradoxical necessity of concluding that the behaviour of an electron or a photon should depend on the presence of a slit in the diaphragm which it could be proved not to pass\"</td>\n",
    "</table>\n",
    "\n",
    "N. Bohr, “The Quantum Postulate and the Recent Development of Atomic Theory”, __Nature 121, 3050 (1928)__.\n",
    "$$(W=1,\\ P=0)\\ \\text{or}\\ (W=0,\\ P=1).$$\n",
    "_For a given experimental setup, we can observe either the wave-like or the particle-like character of a quantum system, but not both simultaneously._"
   ]
  },
  {
   "cell_type": "markdown",
   "id": "7891817f",
   "metadata": {
    "slideshow": {
     "slide_type": "slide"
    }
   },
   "source": [
    "### Visão moderna da complementaridade quântica\n",
    "\n",
    "M. L. W. Basso, D. S. S. Chrysosthemos, and J. Maziero, “Quantitative wave–particle duality relations from the density matrix properties,” __Quantum Inf. Process. 19, 254 (2020)__.<br> \n",
    "M.B. Pozzobom; M.L.W. Basso; J. Maziero, Experimental tests of the density matrix's property-based complementarity relations, __Phys. Rev. A 103, 022212 (2021)__.\n",
    "\n",
    "$$C_{l_1}(\\rho_A)+P_{l_1}(\\rho_A)\\le d_A -1;\\ C_{l_1}(\\rho_A)+P_{l_1}(\\rho_A)+W_{l_1}(\\rho_A)=d_A -1 $$\n",
    "\n",
    "<table>\n",
    "    <td><img src='fig_ibmq2.jpg' width='270'></td>\n",
    "    <td><img src='experiment_cr_.png' width='350'></td>\n",
    "    <td><img src='random_circuits.png' width='450'></td>\n",
    "    <td><img src='experiment_cr.png' width='350'></td>\n",
    "    </table>"
   ]
  },
  {
   "cell_type": "markdown",
   "id": "cfa42030",
   "metadata": {
    "slideshow": {
     "slide_type": "slide"
    }
   },
   "source": [
    "# Interferômetro de Mach-Zehnder (IMZ)"
   ]
  },
  {
   "cell_type": "markdown",
   "id": "16c2643c",
   "metadata": {
    "slideshow": {
     "slide_type": "slide"
    }
   },
   "source": [
    "Modo espacial horizontal: $|h\\rangle:=|0\\rangle$, modo espacial vertical: $|v\\rangle:=|1\\rangle.$ <br>\n",
    "Consideraremos um DF com transmitância $50\\ \\%$, i.e., $t=r=0.5$:\n",
    "<table>\n",
    "    <td><img src='fig_imz.png' width='600'></td>\n",
    "<td>\\begin{align}\n",
    "|\\psi_{0}\\rangle & = |0\\rangle, \\\\\n",
    "|\\psi_{1}\\rangle & = (|0\\rangle+i|1\\rangle)/\\sqrt{2}, \\\\\n",
    "|\\psi_{2}\\rangle & = (i|1\\rangle+ii|0\\rangle)/\\sqrt{2} = (-|0\\rangle+i|1\\rangle)/\\sqrt{2}, \\\\\n",
    "|\\psi_{3}\\rangle & = (-|0\\rangle+ie^{i\\phi}|1\\rangle)/\\sqrt{2}, \\\\\n",
    "|\\psi_{4}\\rangle & = (-(|0\\rangle+i|1\\rangle)/\\sqrt{2}+ie^{i\\phi}(i|0\\rangle+|1\\rangle)/\\sqrt{2})/\\sqrt{2} \\\\\n",
    "& = -\\frac{1+e^{i\\phi}}{2}|0\\rangle -i\\frac{1-e^{i\\phi}}{2}|1\\rangle.\n",
    "\\end{align}\n",
    "    </td>\n",
    "    </table>"
   ]
  },
  {
   "cell_type": "markdown",
   "id": "27c6a3fe",
   "metadata": {
    "slideshow": {
     "slide_type": "slide"
    }
   },
   "source": [
    "Probabilidade do fóton ser detectado em um certo detector:\n",
    "$Pr(D_{0}) = \\left|-(1+e^{i\\phi})/2\\right|^{2} = (1+\\cos\\phi)/2,\\ Pr(D_{1}) = 1 - Pr(D_{0}) = (1-\\cos\\phi)/2.$"
   ]
  },
  {
   "cell_type": "code",
   "execution_count": 5,
   "id": "e6b7e564",
   "metadata": {},
   "outputs": [
    {
     "data": {
      "image/png": "[encoded data removed]",
      "text/plain": [
       "<Figure size 640x480 with 1 Axes>"
      ]
     },
     "metadata": {},
     "output_type": "display_data"
    }
   ],
   "source": [
    "import math; import numpy as np; phmax = 4*math.pi; npt = 100; dth = phmax/npt; ph = np.arange(0,phmax+dth,dth)\n",
    "from matplotlib import pyplot as plt; PrD0 = 0.5*(1+np.cos(ph)); plt.plot(ph,PrD0, label=r'$Pr(D_0)$')\n",
    "plt.legend(); plt.xlabel(r'$\\phi$'); plt.show()"
   ]
  },
  {
   "cell_type": "markdown",
   "id": "3cfebef3",
   "metadata": {
    "slideshow": {
     "slide_type": "slide"
    }
   },
   "source": [
    "## Simulação dos elementos ópticos envolvidos\n",
    "\n",
    "__Divisor de feixes (DF)__\n",
    "$$U_{df}|0\\rangle = (|0\\rangle + i|1\\rangle)/\\sqrt{2},\\ U_{df}|1\\rangle = (|1\\rangle + i|0\\rangle)/\\sqrt{2}$$\n",
    "Matriz\n",
    "$$U_{df} \\doteq \\begin{bmatrix}\\langle 0|U_{df}|0\\rangle & \\langle 0|U_{df}|1\\rangle \\\\ \\langle 1|U_{df}|0\\rangle & \\langle 1|U_{df}|1\\rangle\\end{bmatrix} = \\frac{1}{\\sqrt{2}}\\begin{bmatrix} 1 & i \\\\ i & 1 \\end{bmatrix} = SHS.$$\n"
   ]
  },
  {
   "cell_type": "code",
   "execution_count": 16,
   "id": "36c3733c",
   "metadata": {
    "slideshow": {
     "slide_type": "-"
    }
   },
   "outputs": [
    {
     "data": {
      "text/latex": [
       "$\\displaystyle \\left[\\begin{matrix}\\frac{\\sqrt{2}}{2} & 0.5 \\sqrt{2} i\\\\0.5 \\sqrt{2} i & 0.5 \\sqrt{2}\\end{matrix}\\right]$"
      ],
      "text/plain": [
       "Matrix([\n",
       "[    sqrt(2)/2, 0.5*sqrt(2)*I],\n",
       "[0.5*sqrt(2)*I,   0.5*sqrt(2)]])"
      ]
     },
     "execution_count": 16,
     "metadata": {},
     "output_type": "execute_result"
    }
   ],
   "source": [
    "from sympy import Matrix, sqrt\n",
    "S = Matrix([[1,0],[0,1j]]); H = (1/sqrt(2))*Matrix([[1,1],[1,-1]])\n",
    "S*H*S"
   ]
  },
  {
   "cell_type": "markdown",
   "id": "7d885feb",
   "metadata": {
    "slideshow": {
     "slide_type": "slide"
    }
   },
   "source": [
    "__Espelhos__:\n",
    "$$U_e|0\\rangle = i|1\\rangle,\\ U_e|1\\rangle = i|0\\rangle\\ \\therefore\\ U_e \\doteq \\begin{bmatrix} 0 & i \\\\ i & 0 \\end{bmatrix} = iX = YZ.$$"
   ]
  },
  {
   "cell_type": "code",
   "execution_count": 15,
   "id": "d2527268",
   "metadata": {},
   "outputs": [
    {
     "data": {
      "text/latex": [
       "$\\displaystyle \\left[\\begin{matrix}0 & 1.0 i\\\\1.0 i & 0\\end{matrix}\\right]$"
      ],
      "text/plain": [
       "Matrix([\n",
       "[    0, 1.0*I],\n",
       "[1.0*I,     0]])"
      ]
     },
     "execution_count": 15,
     "metadata": {},
     "output_type": "execute_result"
    }
   ],
   "source": [
    "Y = Matrix([[0,-1j],[1j,0]]); Z = Matrix([[1,0],[0,-1]]); Y*Z"
   ]
  },
  {
   "cell_type": "markdown",
   "id": "d30646f6",
   "metadata": {},
   "source": [
    "__Fase no caminho vertical__\n",
    "$$P(\\phi)|0\\rangle = |0\\rangle,\\ P(\\phi)|1\\rangle = e^{i\\phi}|1\\rangle\\ \\therefore\\ P(\\phi) = \\begin{bmatrix} 1 & 0 \\\\ 0 & e^{i\\phi} \\end{bmatrix}.$$"
   ]
  },
  {
   "cell_type": "markdown",
   "id": "542bd2c8",
   "metadata": {
    "slideshow": {
     "slide_type": "slide"
    }
   },
   "source": [
    "## Simulação clássica do IMZ"
   ]
  },
  {
   "cell_type": "code",
   "execution_count": 33,
   "id": "af595438",
   "metadata": {},
   "outputs": [
    {
     "data": {
      "image/png": "[encoded data removed]",
      "text/plain": [
       "<Figure size 352.675x117.056 with 1 Axes>"
      ]
     },
     "execution_count": 33,
     "metadata": {},
     "output_type": "execute_result"
    }
   ],
   "source": [
    "from qiskit import QuantumCircuit\n",
    "\n",
    "def qc_df(): # divisor de feixes 50:50\n",
    "    qc = QuantumCircuit(1, name='DF')\n",
    "    qc.s(0)\n",
    "    qc.h(0)\n",
    "    qc.s(0)\n",
    "    return qc\n",
    "qcdf = qc_df(); qcdf.draw('mpl')"
   ]
  },
  {
   "cell_type": "code",
   "execution_count": 34,
   "id": "5427414a",
   "metadata": {
    "slideshow": {
     "slide_type": "slide"
    }
   },
   "outputs": [
    {
     "data": {
      "image/png": "[encoded data removed]",
      "text/plain": [
       "<Figure size 269.064x117.056 with 1 Axes>"
      ]
     },
     "execution_count": 34,
     "metadata": {},
     "output_type": "execute_result"
    }
   ],
   "source": [
    "def qc_espelhos():\n",
    "    qc = QuantumCircuit(1, name='E')\n",
    "    qc.z(0)\n",
    "    qc.y(0)\n",
    "    return qc\n",
    "qce = qc_espelhos(); qce.draw('mpl')"
   ]
  },
  {
   "cell_type": "code",
   "execution_count": 35,
   "id": "6d148be9",
   "metadata": {
    "slideshow": {
     "slide_type": "-"
    }
   },
   "outputs": [
    {
     "data": {
      "image/png": "[encoded data removed]",
      "text/plain": [
       "<Figure size 436.286x117.056 with 1 Axes>"
      ]
     },
     "execution_count": 35,
     "metadata": {},
     "output_type": "execute_result"
    }
   ],
   "source": [
    "def qc_imz(ph): # retorna o circuito quântico para o IMZ (sem as medidas)\n",
    "    qc = QuantumCircuit(1)\n",
    "    qcdf = qc_df(); qc.append(qcdf, [0])\n",
    "    qce = qc_espelhos(); qc.append(qce, [0])\n",
    "    qc.p(ph, [0])\n",
    "    qcdf = qc_df(); qc.append(qcdf, [0])\n",
    "    return qc\n",
    "qcimz = qc_imz(0); qcimz.draw('mpl')"
   ]
  },
  {
   "cell_type": "code",
   "execution_count": 56,
   "id": "32183af4",
   "metadata": {
    "slideshow": {
     "slide_type": "slide"
    }
   },
   "outputs": [
    {
     "name": "stdout",
     "output_type": "stream",
     "text": [
      "[1.         0.74609375 0.25390625 0.         0.24951172 0.74938965\n",
      " 1.        ]\n"
     ]
    }
   ],
   "source": [
    "from qiskit import Aer, execute\n",
    "simulator = Aer.get_backend('qasm_simulator')\n",
    "nshots = 2**13\n",
    "import numpy as np; import math\n",
    "phmax = 2*math.pi; npe = 6; dth = phmax/npe; ph = np.arange(0,phmax+dth,dth)\n",
    "PD0sim = np.zeros(len(ph))\n",
    "for j in range(0,len(ph)):\n",
    "    qc = QuantumCircuit(1,1)\n",
    "    qcimz = qc_imz(ph[j]); qc.append(qcimz,[0])\n",
    "    qc.measure(0,0)\n",
    "    job = execute(qc, backend=simulator, shots=nshots)\n",
    "    counts = job.result().get_counts()\n",
    "    if '0' in counts:\n",
    "        PD0sim[j] = counts['0']/nshots\n",
    "print(PD0sim)"
   ]
  },
  {
   "cell_type": "code",
   "execution_count": 58,
   "id": "1a6d5265",
   "metadata": {
    "slideshow": {
     "slide_type": "slide"
    }
   },
   "outputs": [
    {
     "data": {
      "image/png": "[encoded data removed]",
      "text/plain": [
       "<Figure size 640x480 with 1 Axes>"
      ]
     },
     "metadata": {},
     "output_type": "display_data"
    }
   ],
   "source": [
    "npt = 100; dtht = phmax/npt; pht = np.arange(0,phmax+dtht,dtht)\n",
    "PD0teo = 0.5*(1+np.cos(pht))\n",
    "from matplotlib import pyplot as plt\n",
    "plt.plot(pht,PD0teo, label=r'$Pr(D_0)_{teo}$')\n",
    "plt.plot(ph,PD0sim, '*', label=r'$Pr(D_0)_{sim}$')\n",
    "plt.legend(); plt.xlabel(r'$\\phi$'); plt.show()"
   ]
  },
  {
   "cell_type": "markdown",
   "id": "a7179db4",
   "metadata": {
    "slideshow": {
     "slide_type": "slide"
    }
   },
   "source": [
    "## Simulação quântica do IMZ"
   ]
  },
  {
   "cell_type": "code",
   "execution_count": 62,
   "id": "a24b9cf8",
   "metadata": {
    "slideshow": {
     "slide_type": "-"
    }
   },
   "outputs": [
    {
     "name": "stderr",
     "output_type": "stream",
     "text": [
      "ibmqfactory.load_account:WARNING:2023-10-10 19:01:18,001: Credentials are already in use. The existing account in the session will be replaced.\n"
     ]
    }
   ],
   "source": [
    "import qiskit\n",
    "qiskit.IBMQ.save_account('a221013b3d88dd070a495178c3f732ac683a494e5af4e641383f16d361e9fa7fa22af7f09cad3f88988a3e6e5621c7fe951d8ca6ff0c0371422b211ec0ae9709', \n",
    "                  overwrite = True)\n",
    "qiskit.IBMQ.load_account()\n",
    "#provider = qiskit.IBMQ.get_provider(hub='ibm-q', group='open', project='main')\n",
    "provider = qiskit.IBMQ.get_provider(hub='ibm-q-research-2', group='federal-uni-sant-1', project='main')\n",
    "device = provider.get_backend('ibm_nairobi')\n",
    "nshots = 2**13"
   ]
  },
  {
   "cell_type": "code",
   "execution_count": 64,
   "id": "f538753f",
   "metadata": {
    "slideshow": {
     "slide_type": "slide"
    }
   },
   "outputs": [
    {
     "name": "stdout",
     "output_type": "stream",
     "text": [
      "cmjwm4rtv5jg008eneq0\n",
      "cmjwm5raa7w0008ped90\n",
      "cmjwm6gaa7w0008ped9g\n",
      "cmjwm7812ghg0088vpq0\n",
      "cmjwm7r8tsq000808kz0\n",
      "cmjwm8s8tsq000808kzg\n",
      "cmjwm9h4acc0008j00zg\n"
     ]
    }
   ],
   "source": [
    "import numpy as np; import math\n",
    "phmax = 2*math.pi; npe = 6; dth = phmax/npe; ph = np.arange(0,phmax+dth,dth)\n",
    "job_ids = []\n",
    "for j in range(0,len(ph)):\n",
    "    qc = QuantumCircuit(1,1)\n",
    "    qcimz = qc_imz(ph[j]); qc.append(qcimz,[0])\n",
    "    qc.measure(0,0)\n",
    "    job = execute(qc, backend=device, shots=nshots)\n",
    "    jobid = job.job_id(); job_ids.append(jobid)\n",
    "    print(jobid)\n",
    "f = open(\"jobs_ids_IMZ.txt\", \"w\"); f.write(str(job_ids)); f.close()"
   ]
  },
  {
   "cell_type": "code",
   "execution_count": 66,
   "id": "024e80fc",
   "metadata": {
    "slideshow": {
     "slide_type": "slide"
    }
   },
   "outputs": [
    {
     "name": "stdout",
     "output_type": "stream",
     "text": [
      "[0.98974609 0.75439453 0.28100586 0.03991699 0.2746582  0.72875977\n",
      " 0.99084473]\n"
     ]
    }
   ],
   "source": [
    "device = provider.get_backend('ibm_nairobi')\n",
    "f = open(\"jobs_ids_IMZ.txt\",\"r\")\n",
    "list_ids_IMZ = f.read().replace(\"'\",\"\").replace(\" \",\"\").replace(\"[\",\"\").replace(\"]\",\"\").split(\",\")\n",
    "f.close()\n",
    "PD0exp = np.zeros(len(ph))\n",
    "for j in range(0,len(ph)):\n",
    "    job = device.retrieve_job(list_ids_IMZ[j])\n",
    "    counts = job.result().get_counts()\n",
    "    if '0' in counts:\n",
    "        PD0exp[j] = counts['0']/nshots\n",
    "print(PD0exp)"
   ]
  },
  {
   "cell_type": "code",
   "execution_count": 70,
   "id": "c06fec9f",
   "metadata": {
    "slideshow": {
     "slide_type": "slide"
    }
   },
   "outputs": [
    {
     "data": {
      "image/png": "[encoded data removed]",
      "text/plain": [
       "<Figure size 640x480 with 1 Axes>"
      ]
     },
     "metadata": {},
     "output_type": "display_data"
    }
   ],
   "source": [
    "npt = 100; dtht = phmax/npt; pht = np.arange(0,phmax+dtht,dtht)\n",
    "PD0teo = 0.5*(1+np.cos(pht))\n",
    "from matplotlib import pyplot as plt\n",
    "plt.plot(pht,PD0teo, label=r'$Pr(D_0)_{teo}$')\n",
    "plt.plot(ph,PD0sim, 'o', label=r'$Pr(D_0)_{sim}$')\n",
    "plt.plot(ph,PD0exp, '*', label=r'$Pr(D_0)_{exp}$')\n",
    "plt.legend(); plt.xlabel(r'$\\phi$'); plt.show()"
   ]
  },
  {
   "cell_type": "markdown",
   "id": "ec8a3544",
   "metadata": {
    "slideshow": {
     "slide_type": "slide"
    }
   },
   "source": [
    "### Visibilidade interferométrica\n",
    "\n",
    "É usada para quantificar, de forma indireta, o comportamento ondulatório do quanton:\n",
    "$$V = \\frac{Pr(|0\\rangle)_\\max - Pr(|0\\rangle)_\\min}{Pr(|0\\rangle)_\\max + Pr(|0\\rangle)_\\min}$$"
   ]
  },
  {
   "cell_type": "code",
   "execution_count": 68,
   "id": "ffb26884",
   "metadata": {
    "slideshow": {
     "slide_type": "-"
    }
   },
   "outputs": [
    {
     "name": "stdout",
     "output_type": "stream",
     "text": [
      "Vsim =  1.0\n",
      "Vexp =  0.9225485551871151\n"
     ]
    }
   ],
   "source": [
    "Vsim = (np.max(PD0sim)-np.min(PD0sim))/(np.max(PD0sim)+np.min(PD0sim)); print('Vsim = ',Vsim)\n",
    "Vexp = (np.max(PD0exp)-np.min(PD0exp))/(np.max(PD0exp)+np.min(PD0exp)); print('Vexp = ',Vexp)"
   ]
  },
  {
   "cell_type": "markdown",
   "id": "cf1feed9",
   "metadata": {
    "slideshow": {
     "slide_type": "-"
    }
   },
   "source": [
    "Essa visibilidade interferométrica máxima indica que o quanton está se comportando de forma ondulatória, pois para ter sensibilidade à fase $\\phi$ o quanton tem que estar em um estado de superposição dos estados $|0\\rangle$ e $|1\\rangle$."
   ]
  },
  {
   "cell_type": "markdown",
   "id": "0bcd219c",
   "metadata": {
    "slideshow": {
     "slide_type": "slide"
    }
   },
   "source": [
    "# Informação de caminho com emaranhamento"
   ]
  },
  {
   "cell_type": "markdown",
   "id": "eaab762b",
   "metadata": {
    "slideshow": {
     "slide_type": "slide"
    }
   },
   "source": [
    "<table>\n",
    "    <td><img src='fig_apagador.png' width='600'></td>\n",
    "    <td>Notação:\n",
    "\\begin{cases}\n",
    "\\text{A = polarização do fóton A;} \\\\\n",
    "\\text{A' = modo espacial do fóton A;} \\\\\n",
    "\\text{B = polarização do fóton B;} \\\\\n",
    "\\text{B' = modo espacial do fóton B.}\n",
    "\\end{cases}\n",
    "        Polarização:\n",
    "    $|H\\rangle_{s}=|0\\rangle_{s}\\text{, } |V\\rangle_{s}=|1\\rangle_{s} \\text{ com } s=A,B.$ <br>\n",
    "        Caminho: $|h\\rangle_s = |0\\rangle_{s},\\ |v\\rangle_s =|1\\rangle_{s},\\ s=A',B'$\n",
    "    </td>\n",
    "</table>"
   ]
  },
  {
   "cell_type": "markdown",
   "id": "259a925d",
   "metadata": {
    "slideshow": {
     "slide_type": "slide"
    }
   },
   "source": [
    "Sequência de estados\n",
    "\\begin{align}\n",
    "BBO:|\\psi_{0}\\rangle & = \\frac{1}{\\sqrt{2}}\\big(|01\\rangle_{AB}+|10\\rangle_{AB}\\big)|0\\rangle_{B'}|0\\rangle_{A'}, \\\\\n",
    "DFP:|\\psi_{1}\\rangle & = U_{dfp}^{BB'}|\\psi_{0}\\rangle \\\\\n",
    "& = \\frac{1}{\\sqrt{2}}\\big(|0\\rangle_{A}U_{dfp}^{BB'}|10\\rangle_{BB'}+|1\\rangle_{A}U_{dfp}^{BB'}|00\\rangle_{BB'}\\big)|0\\rangle_{A'} \\\\\n",
    "& = \\frac{1}{\\sqrt{2}}\\big(|0\\rangle_{A}i|11\\rangle_{BB'}+|1\\rangle_{A}|00\\rangle_{BB'}\\big)|0\\rangle_{A'} \\\\\n",
    "& = \\text{ estado emaranhado nos 3 graus de liberdade }A,B,B', \\\\\n",
    "\\end{align}"
   ]
  },
  {
   "cell_type": "markdown",
   "id": "8c0c3ed4",
   "metadata": {
    "slideshow": {
     "slide_type": "slide"
    }
   },
   "source": [
    "\\begin{align}\n",
    "PMO:|\\psi_{2}\\rangle & = U_{pmo}^{BB'}|\\psi_{1}\\rangle \\\\\n",
    "& = \\frac{1}{\\sqrt{2}}\\big(i|0\\rangle_{A}U_{pmo}^{BB'}|11\\rangle_{BB'}+|1\\rangle_{A}U_{pmo}^{BB'}|00\\rangle_{BB'}\\big)|0\\rangle_{A'} \\\\\n",
    "& = \\frac{1}{\\sqrt{2}}\\big(i|0\\rangle_{A}|01\\rangle_{BB'}+|1\\rangle_{A}|00\\rangle_{BB'}\\big)|0\\rangle_{A'} \\\\\n",
    "& = \\frac{1}{\\sqrt{2}}\\big(i|01\\rangle_{AB'}+|10\\rangle_{AB'}\\big)|0\\rangle_{B}|0\\rangle_{A'}, \\\\\n",
    "& = \\text{ emaranhou somente A e B', os descorrelacionando de B}\n",
    "\\end{align}\n",
    "Vemos assim que, nesse ponto, se medimos a polarização horizontal-vertical de A, obtemos a informação de caminho de B no IMZ."
   ]
  },
  {
   "cell_type": "markdown",
   "id": "adaa8f7c",
   "metadata": {
    "slideshow": {
     "slide_type": "slide"
    }
   },
   "source": [
    "\\begin{align}\n",
    "& espelho:\\ |\\psi_{3}\\rangle = U_{e}^{B'}|\\psi_{2}\\rangle = \\frac{1}{\\sqrt{2}}\\big(iU_{e}^{B'}|01\\rangle_{AB'}+U_{e}^{B'}|10\\rangle_{AB'}\\big)|0\\rangle_{B}|0\\rangle_{A'} \\\\\n",
    "& = \\frac{1}{\\sqrt{2}}\\big(ii|00\\rangle_{AB'}+i|11\\rangle_{AB'}\\big)|0\\rangle_{B}|0\\rangle_{A'} = \\frac{1}{\\sqrt{2}}\\big(-|00\\rangle_{AB'}+i|11\\rangle_{AB'}\\big)|0\\rangle_{B}|0\\rangle_{A'} \\\\\n",
    "& fase:\\ |\\psi_{4}\\rangle = U_{\\phi}^{B'}|\\psi_{3}\\rangle \\\\\n",
    "& = \\frac{1}{\\sqrt{2}}\\big(-|00\\rangle_{AB'}+ie^{i\\phi}|11\\rangle_{AB'}\\big)|0\\rangle_{B}|0\\rangle_{A'} \\\\\n",
    "& DF:\\ |\\psi_{5}\\rangle = U_{df}^{B'}|\\psi_{4}\\rangle \\\\\n",
    "& = \\frac{1}{\\sqrt{2}}\\Big(-|0\\rangle_{A}\\big(|0\\rangle_{B'}+i|1\\rangle_{B'}\\big)/\\sqrt{2}+ie^{i\\phi}|1\\rangle_{A}\\big(i|0\\rangle_{B'}+|1\\rangle_{B'}\\big)/\\sqrt{2}\\Big)|0\\rangle_{B}|0\\rangle_{A'} \\\\\n",
    "&  = -\\frac{1}{2}\\Big(|0\\rangle_{A}\\big(|0\\rangle_{B'}+i|1\\rangle_{B'}\\big) + e^{i\\phi}|1\\rangle_{A}\\big(|0\\rangle_{B'}-i|1\\rangle_{B'}\\big)\\Big)|0\\rangle_{B}|0\\rangle_{A'}.\n",
    "\\end{align}"
   ]
  },
  {
   "cell_type": "markdown",
   "id": "b0c5f929",
   "metadata": {
    "slideshow": {
     "slide_type": "slide"
    }
   },
   "source": [
    "Probabilidade\n",
    "\\begin{align}\n",
    "Pr(D_0) = Pr(B'=0) & = Pr(A=0,B'=0) + Pr(A=1,B'=0) \\\\\n",
    "& = \\Big|-\\frac{1}{2}\\Big|^2 + \\Big|\\frac{e^{i\\phi}}{2}\\Big|^2 = 1/4 + 1/4 \\\\\n",
    "& = 1/2.\n",
    "\\end{align}\n",
    "\n",
    "Visibilidade interferométrica\n",
    "$$V_{teo} = \\frac{Pr(|0\\rangle)_\\max - Pr(|0\\rangle)_\\min}{Pr(|0\\rangle)_\\max + Pr(|0\\rangle)_\\min} = \\frac{Pr(1/2 - 1/2}{1/2 + 1/2} = 0.$$\n",
    "\n",
    "Isso indica um comportamento tipo partícula. Entendemos isso pois a informação sobre o caminho está disponível na polarização do fóton A."
   ]
  },
  {
   "cell_type": "markdown",
   "id": "845e5f72",
   "metadata": {
    "slideshow": {
     "slide_type": "slide"
    }
   },
   "source": [
    "### Simulação do elementos ópticos\n",
    "\n",
    "##### Divisor de feixes polarizado\n",
    "Reflete a polarização vertical:\n",
    "\\begin{align}\n",
    "U_{dfp}|00\\rangle_{BB'} = |00\\rangle_{BB'},\\ U_{dfp}|01\\rangle_{BB'} = |01\\rangle_{BB'}, \\\\\n",
    "U_{dfp}|10\\rangle_{BB'} = i|11\\rangle_{BB'},\\ U_{dfp}|11\\rangle_{BB'} = i|10\\rangle_{BB'}.\n",
    "\\end{align}\n",
    "Ou seja\n",
    "\\begin{align}\n",
    "U_{dfp} & \\doteq \\begin{bmatrix} 1&0&0&0 \\\\ 0&1&0&0 \\\\ 0&0&0&i \\\\ 0&0&i&0 \\end{bmatrix} = |0\\rangle\\langle 0|_B\\otimes I_{B'} + |1\\rangle\\langle 1|_B\\otimes U_e^{B'} = C_{U_{e}}^{B\\rightarrow B'} \\\\\n",
    "& = C_{y}^{B\\rightarrow B'}C_{z}^{B\\rightarrow B'}.\n",
    "\\end{align}"
   ]
  },
  {
   "cell_type": "markdown",
   "id": "72d90f04",
   "metadata": {
    "slideshow": {
     "slide_type": "slide"
    }
   },
   "source": [
    "#### Placa de meia onda\n",
    "Inverte a polarização, se o caminho é $B'=1$:\n",
    "\\begin{align}\n",
    "& U_{pmo}|00\\rangle_{BB'} = |00\\rangle_{BB'},\\ U_{pmo}|10\\rangle_{BB'} = |10\\rangle_{BB'},\\\\\n",
    "& U_{pmo}|01\\rangle_{BB'} = |11\\rangle_{BB'},\\ U_{pmo}|11\\rangle_{BB'} = |01\\rangle_{BB'}.\n",
    "\\end{align}\n",
    "Ou seja\n",
    "\\begin{align}\n",
    "U_{dfp} & \\doteq \\begin{bmatrix} 1&0&0&0 \\\\ 0&0&0&1 \\\\ 0&0&1&0 \\\\ 0&1&0&0 \\end{bmatrix} = I_B\\otimes|0\\rangle\\langle 0|_{B'} + X_B\\otimes|1\\rangle\\langle 1|_{B'} \\\\\n",
    "& = C_X^{B'\\rightarrow B}.\n",
    "\\end{align}\n"
   ]
  },
  {
   "cell_type": "code",
   "execution_count": 3,
   "id": "2914a924",
   "metadata": {
    "slideshow": {
     "slide_type": "skip"
    }
   },
   "outputs": [
    {
     "data": {
      "text/latex": [
       "$\\displaystyle \\left[\\begin{matrix}1 & 0 & 0 & 0\\\\0 & 0 & 0 & 1\\\\0 & 0 & 1 & 0\\\\0 & 1 & 0 & 0\\end{matrix}\\right]$"
      ],
      "text/plain": [
       "Matrix([\n",
       "[1, 0, 0, 0],\n",
       "[0, 0, 0, 1],\n",
       "[0, 0, 1, 0],\n",
       "[0, 1, 0, 0]])"
      ]
     },
     "execution_count": 3,
     "metadata": {},
     "output_type": "execute_result"
    }
   ],
   "source": [
    "from sympy import Matrix, eye; P0 = Matrix([[1,0],[0,0]]); P1 = Matrix([[0,0],[0,1]]); X = Matrix([[0,1],[1,0]])\n",
    "from sympy.physics.quantum import TensorProduct as tp; tp(eye(2),P0) + tp(X,P1)"
   ]
  },
  {
   "cell_type": "markdown",
   "id": "2909b627",
   "metadata": {
    "slideshow": {
     "slide_type": "slide"
    }
   },
   "source": [
    "## Simulação clássica\n",
    "\n",
    "O BBO prepara o estado $|\\Psi_+\\rangle$ para as polarizações dos fótons."
   ]
  },
  {
   "cell_type": "code",
   "execution_count": 4,
   "id": "d171b329",
   "metadata": {
    "scrolled": true,
    "slideshow": {
     "slide_type": "-"
    }
   },
   "outputs": [
    {
     "data": {
      "image/png": "[encoded data removed]",
      "text/plain": [
       "<Figure size 287.294x200.667 with 1 Axes>"
      ]
     },
     "execution_count": 4,
     "metadata": {},
     "output_type": "execute_result"
    }
   ],
   "source": [
    "def qc_bbo():\n",
    "    from qiskit import QuantumCircuit\n",
    "    qc = QuantumCircuit(2, name='BBO')\n",
    "    qc.x(1)\n",
    "    qc.h(0)\n",
    "    qc.cx(0,1)\n",
    "    return qc\n",
    "qcbbo = qc_bbo(); qcbbo.draw('mpl')"
   ]
  },
  {
   "cell_type": "markdown",
   "id": "dd0c9a80",
   "metadata": {
    "slideshow": {
     "slide_type": "slide"
    }
   },
   "source": [
    "Circuito quântico para o divisor de feixes polarizado"
   ]
  },
  {
   "cell_type": "code",
   "execution_count": 5,
   "id": "a5a9cca9",
   "metadata": {
    "scrolled": true,
    "slideshow": {
     "slide_type": "-"
    }
   },
   "outputs": [
    {
     "data": {
      "image/png": "[encoded data removed]",
      "text/plain": [
       "<Figure size 287.294x200.667 with 1 Axes>"
      ]
     },
     "execution_count": 5,
     "metadata": {},
     "output_type": "execute_result"
    }
   ],
   "source": [
    "def qc_dfp():\n",
    "    from qiskit import QuantumCircuit\n",
    "    qc = QuantumCircuit(2, name='DFP')\n",
    "    qc.cz(0,1)\n",
    "    qc.cy(0,1)\n",
    "    return qc\n",
    "qcdfp = qc_dfp(); qcdfp.draw('mpl')"
   ]
  },
  {
   "cell_type": "markdown",
   "id": "d7ab4900",
   "metadata": {
    "slideshow": {
     "slide_type": "slide"
    }
   },
   "source": [
    "Circuito quântico para a placa de meia onda"
   ]
  },
  {
   "cell_type": "code",
   "execution_count": 6,
   "id": "3520a3e6",
   "metadata": {
    "slideshow": {
     "slide_type": "-"
    }
   },
   "outputs": [
    {
     "data": {
      "image/png": "[encoded data removed]",
      "text/plain": [
       "<Figure size 203.683x200.667 with 1 Axes>"
      ]
     },
     "execution_count": 6,
     "metadata": {},
     "output_type": "execute_result"
    }
   ],
   "source": [
    "def qc_pmo():\n",
    "    from qiskit import QuantumCircuit\n",
    "    qc = QuantumCircuit(2, name='PMO')\n",
    "    qc.cx(1,0)\n",
    "    return qc\n",
    "qcpmo = qc_pmo(); qcpmo.draw('mpl')"
   ]
  },
  {
   "cell_type": "markdown",
   "id": "989b30b1",
   "metadata": {
    "slideshow": {
     "slide_type": "slide"
    }
   },
   "source": [
    "Circuito quântico para o IMZ com informação de caminho"
   ]
  },
  {
   "cell_type": "code",
   "execution_count": 9,
   "id": "17a3c719",
   "metadata": {},
   "outputs": [
    {
     "data": {
      "image/png": "[encoded data removed]",
      "text/plain": [
       "<Figure size 287.496x284.278 with 1 Axes>"
      ]
     },
     "execution_count": 9,
     "metadata": {},
     "output_type": "execute_result"
    }
   ],
   "source": [
    "def qc_imz_ic(ph): # não consideramos o caminho do fóton A\n",
    "    from qiskit import QuantumCircuit\n",
    "    qc = QuantumCircuit(3, name='IMZIC')\n",
    "    qcbbo = qc_bbo(); qc.append(qcbbo, [0,1])\n",
    "    qcdfp = qc_dfp(); qc.append(qcdfp, [1,2])\n",
    "    return qc\n",
    "qcimzic = qc_imz_ic(0); qcimzic.draw('mpl')"
   ]
  },
  {
   "cell_type": "markdown",
   "id": "61a11d0a",
   "metadata": {
    "slideshow": {
     "slide_type": "slide"
    }
   },
   "source": [
    "# Apagador quântico"
   ]
  },
  {
   "cell_type": "markdown",
   "id": "72eb1531",
   "metadata": {
    "slideshow": {
     "slide_type": "slide"
    }
   },
   "source": [
    "<table>\n",
    "    <td><img src='fig_apagador.png' width='600'></td>\n",
    "    </table>"
   ]
  },
  {
   "cell_type": "markdown",
   "id": "5c66cb8f",
   "metadata": {
    "slideshow": {
     "slide_type": "slide"
    }
   },
   "source": [
    "\\begin{align}\n",
    "& PQO:\\ |\\psi_{6}\\rangle = U_{pqo}^{A}|\\psi_{5}\\rangle  \\\\\n",
    "& = -\\frac{1}{2}\\Big(U_{pqo}^{A}|0\\rangle_{A}\\big(|0\\rangle_{B'}+i|1\\rangle_{B'}\\big) + e^{i\\phi}U_{pqo}^{A}|1\\rangle_{A}\\big(|0\\rangle_{B'}-i|1\\rangle_{B'}\\big)\\Big)|0\\rangle_{B}|0\\rangle_{A'} \\\\\n",
    "& = -\\frac{1}{2\\sqrt{2}}\\Big(\\big(|0\\rangle_{A}+i|1\\rangle_{A}\\big)\\big(|0\\rangle_{B'}+i|1\\rangle_{B'}\\big) \\\\\n",
    "& \\hspace{5cm} + e^{i\\phi}\\big(|0\\rangle_{A}-i|1\\rangle_{A}\\big)\\big(|0\\rangle_{B'}-i|1\\rangle_{B'}\\big)\\Big)|0\\rangle_{B}|0\\rangle_{A'} \\\\\n",
    "& = -\\frac{1}{\\sqrt{2}}\\Big(|\\oplus\\rangle_{A}\\frac{1}{\\sqrt{2}}\\big(|0\\rangle_{B'}+i|1\\rangle_{B'}\\big) + e^{i\\phi}|\\ominus\\rangle_{A}\\frac{1}{\\sqrt{2}}\\big(|0\\rangle_{B'}-i|1\\rangle_{B'}\\big)\\Big)|0\\rangle_{B}|0\\rangle_{A'}.\n",
    "\\end{align}\n",
    "com $|\\oplus\\rangle_A = (|0\\rangle_A + i|1\\rangle_A)/\\sqrt{2},\\ |\\ominus\\rangle_A = (|0\\rangle_A - i|1\\rangle_A)/\\sqrt{2}.$"
   ]
  },
  {
   "cell_type": "code",
   "execution_count": null,
   "id": "559c4897",
   "metadata": {},
   "outputs": [],
   "source": []
  },
  {
   "cell_type": "code",
   "execution_count": null,
   "id": "3740a050",
   "metadata": {},
   "outputs": [],
   "source": []
  },
  {
   "cell_type": "code",
   "execution_count": null,
   "id": "4ac8c2cd",
   "metadata": {},
   "outputs": [],
   "source": []
  },
  {
   "cell_type": "code",
   "execution_count": null,
   "id": "9b57922a",
   "metadata": {},
   "outputs": [],
   "source": []
  }
 ],
 "metadata": {
  "celltoolbar": "Slideshow",
  "kernelspec": {
   "display_name": "Python 3 (ipykernel)",
   "language": "python",
   "name": "python3"
  },
  "language_info": {
   "codemirror_mode": {
    "name": "ipython",
    "version": 3
   },
   "file_extension": ".py",
   "mimetype": "text/x-python",
   "name": "python",
   "nbconvert_exporter": "python",
   "pygments_lexer": "ipython3",
   "version": "3.9.13"
  }
 },
 "nbformat": 4,
 "nbformat_minor": 5
}
