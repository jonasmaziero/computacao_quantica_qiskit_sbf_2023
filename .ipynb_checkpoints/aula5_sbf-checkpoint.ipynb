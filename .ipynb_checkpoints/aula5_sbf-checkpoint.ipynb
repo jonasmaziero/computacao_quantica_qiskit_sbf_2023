{
 "cells": [
  {
   "cell_type": "markdown",
   "id": "e6344af9",
   "metadata": {
    "slideshow": {
     "slide_type": "slide"
    }
   },
   "source": [
    "### Computação Quântica com Qiskit\n",
    "\n",
    "##### Jonas Maziero\n",
    "\n",
    "<table>\n",
    "<td> Universidade Federal de Santa Maria <br>\n",
    "Centro de Ciências Naturais e Exatas <br>\n",
    "Departamento de Física <br>\n",
    "https://sites.google.com/site/jonasmaziero <br>\n",
    "jonas.maziero@ufsm.br \n",
    "    </td>\n",
    "    <td><img src='ufsm.jpg' width='250'></td>\n",
    "    <td><img src='inpe_ufsm.jpg' width='550'></td>\n",
    "</table>\n",
    "<table>\n",
    "    <td>Suporte Financeiro:</td>\n",
    "    <td><img src='cnpq.png' width='200'></td>\n",
    "    <td><img src='inct-iq.png' width='330'></td>\n",
    "    <td><img src='capes.png' width='100'></td>\n",
    "    <td><img src='fapergs.png' width='150'></td>\n",
    "    <td><img src='ufsm.jpg' width='75'></td>\n",
    "    </table>"
   ]
  },
  {
   "cell_type": "markdown",
   "id": "f6890d85",
   "metadata": {
    "slideshow": {
     "slide_type": "slide"
    }
   },
   "source": [
    "# Aula 5\n",
    "\n",
    "- Complementaridade quântica;\n",
    "- Interferômetro de Mach-Zehnder;\n",
    "- Apagador quântico;\n",
    "- Bombda de Elitzur-Vaidman."
   ]
  },
  {
   "cell_type": "code",
   "execution_count": null,
   "id": "c7163b4c",
   "metadata": {},
   "outputs": [],
   "source": []
  }
 ],
 "metadata": {
  "celltoolbar": "Slideshow",
  "kernelspec": {
   "display_name": "Python 3 (ipykernel)",
   "language": "python",
   "name": "python3"
  },
  "language_info": {
   "codemirror_mode": {
    "name": "ipython",
    "version": 3
   },
   "file_extension": ".py",
   "mimetype": "text/x-python",
   "name": "python",
   "nbconvert_exporter": "python",
   "pygments_lexer": "ipython3",
   "version": "3.9.13"
  }
 },
 "nbformat": 4,
 "nbformat_minor": 5
}
